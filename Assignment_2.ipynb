{
 "cells": [
  {
   "cell_type": "markdown",
   "metadata": {},
   "source": [
    "# Assignment 2\n",
    "\n",
    "### Math 502 - Lamoureux\n",
    "\n",
    "### Due February 14, 2019"
   ]
  },
  {
   "cell_type": "markdown",
   "metadata": {},
   "source": [
    "## Exercise 0\n",
    "\n",
    "It's Valentine's Day. Plot a cardioid curve. (A curve in the 2D plane that looks like a heart.)\n",
    "\n",
    "If you are feeling adventurous, you could plot the heart surface, which Wolfram's MathWorld defines via a certain 6th order polynomial in $x,y,z$.\n",
    "\n",
    "![heart surface](heartsurface.jpg)\n"
   ]
  },
  {
   "cell_type": "markdown",
   "metadata": {},
   "source": [
    "## Exercise 1\n",
    "\n",
    "More on Kepler's law.\n",
    "\n",
    "Suppose you have a mass $m$ sliding on a frictionless table, attached to a pole at the center of table via an elastic spring. The force due to the spring is proportional to the distance from the mass to the center of the table\n",
    "$$F = k \\cdot (\\mbox{distance from mass to pole.})$$\n",
    "\n",
    "It turns out the mass will move around the table in an ellipse, say of some mean radius $R$ and period of oscillation $T$.\n",
    "\n",
    "Use dimensional analysis to show the period $T$ depends on the mass $m$ and the spring constant $k$. Show explicitly what the power law is, for this relationship. \n",
    "\n",
    "How is this different from Kepler's third law? \n",
    "\n",
    "Can you conclude that the Earth is not connected to the Sun via a big spring?"
   ]
  },
  {
   "cell_type": "markdown",
   "metadata": {},
   "source": [
    "## Exercise 2\n",
    "\n",
    "Something about solving the above numerically. "
   ]
  },
  {
   "cell_type": "markdown",
   "metadata": {},
   "source": [
    "## Exercise 3\n",
    "\n",
    "To come..."
   ]
  },
  {
   "cell_type": "markdown",
   "metadata": {},
   "source": [
    "## Exercise 4\n",
    "\n",
    "To come...\n"
   ]
  },
  {
   "cell_type": "markdown",
   "metadata": {},
   "source": [
    "## Exercise 5\n",
    "\n",
    "To come ..."
   ]
  },
  {
   "cell_type": "markdown",
   "metadata": {},
   "source": [
    "## Exercise 6 \n",
    "\n",
    "To come..."
   ]
  },
  {
   "cell_type": "code",
   "execution_count": null,
   "metadata": {},
   "outputs": [],
   "source": []
  }
 ],
 "metadata": {
  "kernelspec": {
   "display_name": "Python 3",
   "language": "python",
   "name": "python3"
  },
  "language_info": {
   "codemirror_mode": {
    "name": "ipython",
    "version": 3
   },
   "file_extension": ".py",
   "mimetype": "text/x-python",
   "name": "python",
   "nbconvert_exporter": "python",
   "pygments_lexer": "ipython3",
   "version": "3.7.2"
  }
 },
 "nbformat": 4,
 "nbformat_minor": 2
}
