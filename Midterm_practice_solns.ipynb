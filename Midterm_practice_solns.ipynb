{
 "cells": [
  {
   "cell_type": "markdown",
   "metadata": {},
   "source": [
    "## Midterm practice\n",
    "\n",
    "Expect something like 4 to 5 questions. Some samples are as follows:\n",
    "\n"
   ]
  },
  {
   "cell_type": "markdown",
   "metadata": {},
   "source": [
    "### Q1.  \n",
    "\n",
    "Show me some code. Write a short function in code, to compute $\\sin(x)$ to an accuracy of $\\pm 10^{-4}$. Your code cannot call any trig function -- just use plus, minus, times and divide, and some loops.\n",
    "\n",
    "You can use the formula $$\\sin(x) = x - \\frac{x^3}{3!} + \\frac{x^5}{5!} - \\cdots.$$ You can assume $-1 < x < 1.$\n",
    "\n",
    "(You can write it in Python, or in pseudo-code. Don't worry too much abour the syntax, just get the logic correct.)\n",
    "\n",
    "\n"
   ]
  },
  {
   "cell_type": "code",
   "execution_count": 2,
   "metadata": {},
   "outputs": [],
   "source": [
    "## The idea is to run a loop, adding up odd powers of x, divided by factorial\n",
    "## Take enough terms to ensure the error is small (1/9! < 1/10000)\n",
    "def mySin(x):\n",
    "    sum = 0\n",
    "    for k in range(5):\n",
    "        sum = sum + ((-1)**k)*(x**(2*k+1))/factorial(2*k+1)\n",
    "    return sum\n",
    "    \n",
    "        "
   ]
  },
  {
   "cell_type": "code",
   "execution_count": 7,
   "metadata": {},
   "outputs": [
    {
     "data": {
      "text/plain": [
       "(0.8414710097001764, 0.8414709848078965)"
      ]
     },
     "execution_count": 7,
     "metadata": {},
     "output_type": "execute_result"
    }
   ],
   "source": [
    "from math import factorial, sin\n",
    "\n",
    "mySin(1), sin(1)"
   ]
  },
  {
   "cell_type": "code",
   "execution_count": 10,
   "metadata": {},
   "outputs": [
    {
     "data": {
      "text/plain": [
       "362880"
      ]
     },
     "execution_count": 10,
     "metadata": {},
     "output_type": "execute_result"
    }
   ],
   "source": [
    "factorial(9)"
   ]
  },
  {
   "cell_type": "markdown",
   "metadata": {},
   "source": [
    "### Q2.\n",
    "\n",
    "A rock of mass $m$ is dropped (from rest) off a cliff of height $L$, under the influence of gravity. Use Buckingham Pi theorem to show the time it takes to fall is proportional to $L^\\alpha$, for some fixed number $\\alpha$. What is the value of $\\alpha$?\n",
    "\n",
    "If you like, you can check your answer using calculus, but I want you to derive the result using Buckingham Pi."
   ]
  },
  {
   "cell_type": "markdown",
   "metadata": {},
   "source": [
    "ANS:\n",
    "\n",
    "You have length L (in meters, say), time T (in seconds), and gravity g (in meters/second^2). Three parameters, two physical units, so 3-2 = 1 dimensionless quantity. gT^2/L is dimensionless (units cancel), so by Buck-PI,\n",
    "$$ gT^2/L = \\mbox{ constant } k^2.$$\n",
    "Solving for $T,$\n",
    "$$ T = k\\sqrt{\\frac{L}{g}}.$$\n",
    "\n",
    "So $T$ is proportional to $L^{1/2}$, so $\\alpha = 1/2.$\n",
    "\n",
    "Maybe I should say something about mass? \n",
    "\n",
    "You tell me -- why are we ignoring mass? (There is a reason, but I don't want to do all the work.)"
   ]
  },
  {
   "cell_type": "markdown",
   "metadata": {},
   "source": [
    "### Q3. \n",
    "\n",
    "Suppose we have a 1D wave equation, with a forcing term, given by\n",
    "$$ \\rho\\frac{\\partial^2 u}{\\partial t^2} + K \\frac{\\partial^2 u}{\\partial x^2} = F\\sin(t),$$\n",
    "for some physical constants $\\rho, K,F$. \n",
    "\n",
    "Show how to non-dimensionalize the problem, by rescaling to obtain the form\n",
    "$$ \\frac{\\partial^2 u}{\\partial t^2} +  \\frac{\\partial^2 u}{\\partial x^2} = \\sin(\\omega t).$$\n",
    "\n",
    "What is the value of $\\omega$?\n"
   ]
  },
  {
   "cell_type": "markdown",
   "metadata": {},
   "source": [
    "ANS:\n",
    "\n",
    "Well, first of all this isn't really the wave equation, since there should be a minus sign. \n",
    "$$ \\rho\\frac{\\partial^2 u}{\\partial t^2} - K \\frac{\\partial^2 u}{\\partial x^2} = F\\sin(t).$$\n",
    "\n",
    "Oh well. Let's continue on anyway.\n",
    "\n",
    "This one is a little harder than I wanted. The idea is to rescale the variables $t, x, u$ to make everything dimensionless. They are in units of time, distance, and distance respectively. But, $\\rho, K, F$ are not. So, what to do?\n",
    "\n",
    "We need to fix a standard length, or a standard time. I'll choose a length. \n",
    "\n",
    "First, notice that $K/\\rho$ is in units of a velocity squared. You might just remember that from the wave equation as discussed in class. Or, you can observe that the terms\n",
    "$$\\rho\\frac{\\partial^2 u}{\\partial t^2}, \\quad K \\frac{\\partial^2 u}{\\partial x^2}$$\n",
    "have to have the same units. Cross multiplying (being a bit sloppy), we get\n",
    "$$\\frac{\\partial^2 u}{\\partial t^2}\\frac{\\partial x^2}{\\partial^2 u} \\approx \\frac{K}{\\rho}$$\n",
    "or\n",
    "$$\\frac{\\partial x^2}{\\partial t^2} \\approx \\frac{K}{\\rho}.$$\n",
    "So that thing on the left has units of a distance^2/time^2, which is a velocity squared.\n",
    "\n",
    "Set $c^2 = K/\\rho$ as our velocity squared. If we pick some standard length $L$, say the length of the vibrating string, then\n",
    "$$x = L x'$$\n",
    "gives a dimensionless $x'$, while\n",
    "$$t = (L/c) t'$$\n",
    "gives a dimensionless $t'$ (since $L/c$ has units of time.)\n",
    "\n",
    "Setting $u = Uu'$ for some dimensionless variable $u'$, with the change of variables our DE becomes\n",
    "$$\\frac{U}{(L/c)^2} \\rho u_{tt} + \\frac{U}{L^2}K u_{xx} = F\\sin(\\frac{L}{c}t),$$\n",
    "where I have dropped the primes, as is standard. Pull all the constants to one side to get\n",
    "$$ u_{tt} +  u_{xx} = \\frac{FL^2}{UK}\\sin(\\frac{L}{c}t).$$\n",
    "So now we have the freedom to choose $U = FL^2/K$ and $\\omega = L/c$ and we have\n",
    "$$ u_{tt} +  u_{xx} = \\sin(\\omega t),$$\n",
    "as desired for the dimensionless version.\n"
   ]
  },
  {
   "cell_type": "markdown",
   "metadata": {},
   "source": [
    "### Q4\n",
    "\n",
    "There are a few options here. Might be a question on separation of variables, or a traffic flow model. Or it might be an asymptotic expansion related to solving an equation or integral. Or maybe a perturbation to a differential equation (but if so, it would involve an DE that is easy to solve.)\n",
    "\n",
    "Keeping the options open here.\n",
    "\n",
    "Here's a separation of varables that might be interesting.\n",
    "\n",
    "A metal beam will vibrate when struck, but in a manner different than an elastic string. A fourth order ODE is obtained, when dimensionless, as\n",
    "$$u_{xxxx} + u_{tt} = 0.$$\n",
    "\n",
    "Find solutions to this problem, using separation of variable. Choose some reasonable boundary conditions at the points $x=0, \\pi$ to make this a well-defined problem."
   ]
  },
  {
   "cell_type": "markdown",
   "metadata": {},
   "source": [
    "ANS:\n",
    "\n",
    "Well, as with the wave equation above, the sign is wrong. So let's fix the equation to be \n",
    "\n",
    "Let's try the separation of variables. First we set $u(x,t) = A(x)B(t).$ The PDE becomes\n",
    "$$A''''(x)B(t) + A(x)B''(t) = 0.$$\n",
    "Dividing by $AB$ we get\n",
    "$$\\frac{A''''}{A} = - \\frac{B''}{B} = \\mbox{ constant } k^2,$$\n",
    "which must be a constant because the $A$ part is a function of $x$ only, while the $B$ part is a function of $t$ only. That can only happen if these guys are constant. \n",
    "\n",
    "I pick the constant $k^2$ to be positive because the ODE I get for $B$ from this equation is\n",
    "$$ B'' + k^2 B = 0$$\n",
    "which will have sine and cosine solutions\n",
    "$$B(t) = a\\cdot \\sin(t) + b \\cdot \\cos(t).$$\n",
    "(If we took negative $-k^2$ we would get exponentially growing solutions, which would be weird for a vibrating beam.)\n",
    "\n",
    "Now from $\\frac{A''''}{A} =  k^2$ we get the DE\n",
    "$$ A'''' = k^2 A$$ which we know has solutions in the form of sines, cosines and hyperbolic sine sand cosines. (Things that you differential 4 times and get back the same thing. \n",
    "\n",
    "So you could write \n",
    "$$A(x) = c\\cdot \\sin(\\beta x) + d\\cdot \\cos(\\beta x) + e\\cdot \\sinh(\\beta x) + f\\cdot \\cosh(\\beta x).$$\n",
    "And of course, we need $\\beta^4 = k^2$, so we can take $\\beta$ as the square root of $k$.\n",
    "\n"
   ]
  },
  {
   "cell_type": "markdown",
   "metadata": {},
   "source": [
    "## Boundary conditions.\n",
    "\n",
    "To restrict the solutions, we can add boundary conditions. Since we have a 4th order ODE, we need 4 boundary conditions. \n",
    "\n",
    "For a beam of length L, you could put two conditions at boundary $x=0$, say\n",
    "$$A(0) = 0, A'(0) = 0.$$\n",
    "This corresponds to a beam that is level and firmly attached at one end\n",
    "\n",
    "Two other conditions at the other end $x=L$ could be\n",
    "$$A''(L) = 0, A'''(L) = 0.$$\n",
    "This corresponds to a beam that is free at the other end, so it is not tied down, and could have a slope. But it has no curvature at the end. \n",
    "\n",
    "Thes four conditions will put contraints on the values of those coefficients $c,d,e,f$.\n",
    "\n",
    "It also will put constraints on the value of $\\cosh(\\beta L)\\cos(\\beta L)$. (it will have to equal minus one.) This becomes a complicated problem, which you wouldn't have to do on a mid term. "
   ]
  },
  {
   "cell_type": "code",
   "execution_count": null,
   "metadata": {},
   "outputs": [],
   "source": []
  }
 ],
 "metadata": {
  "kernelspec": {
   "display_name": "Python 3",
   "language": "python",
   "name": "python3"
  },
  "language_info": {
   "codemirror_mode": {
    "name": "ipython",
    "version": 3
   },
   "file_extension": ".py",
   "mimetype": "text/x-python",
   "name": "python",
   "nbconvert_exporter": "python",
   "pygments_lexer": "ipython3",
   "version": "3.7.2"
  }
 },
 "nbformat": 4,
 "nbformat_minor": 2
}
