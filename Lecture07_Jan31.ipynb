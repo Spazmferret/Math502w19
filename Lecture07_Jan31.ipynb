{
 "cells": [
  {
   "cell_type": "markdown",
   "metadata": {},
   "source": [
    "# <center> Math 502, Winter 2019 </center>\n",
    "\n",
    "## <center> Instructor: M. Lamoureux </center>\n",
    "\n",
    "## <center> Lecture 7 - January 31 </center>"
   ]
  },
  {
   "cell_type": "markdown",
   "metadata": {},
   "source": [
    "## The heat equation.\n",
    "\n",
    "We explored this briefly in the last lecture. \n",
    "\n",
    "We should look more carefully. First, we came up with a PDE describing the process:\n",
    "\n",
    "$$\\rho c \\frac{\\partial T}{\\partial t} = k\\nabla^2 T$$\n",
    "but we weren't sure if the sign was right.\n",
    "\n",
    "Sanity check. What about 2D? Suppose you have a metal rod that is cold on the ends, and hot in the middle? The temperature profile might look like this:\n",
    "\n",
    "<img src=\"images/HotRod.png\" alt=\"A hot rod\" width=\"400\"/>\n",
    "<center> Temperature along a metal rod. </center>\n",
    "\n",
    "That curve has a negative second derivative (frowny face). So in the 1D verision of the heat equation \n",
    "$$\\rho c \\frac{\\partial T}{\\partial t} = k\\frac{\\partial^2 T}{\\partial x^2}, $$\n",
    "the RHS is negative. So the time derivative on the left hand side is negative. So the temperature decreases with with time. Which makes sense -- a hot metal rod will cool down.\n",
    "\n"
   ]
  },
  {
   "cell_type": "markdown",
   "metadata": {},
   "source": [
    "## Solving the heat equation\n",
    "\n",
    "Let's go a little deeper into the heat equation. \n",
    "\n",
    "<img src=\"images/HotRod2.png\" alt=\"A hot rod\" width=\"400\"/>\n",
    "<center> A heated metal rod. </center>\n",
    "\n",
    "Simplify the heat equation so all the constants are one. \n",
    "$$\\frac{\\partial T}{\\partial t} = \\frac{\\partial^2 T}{\\partial x^2}. $$\n",
    "Add a boundary constraint, so the rod has finite length (say one), and the temperature is kept constant the endpoints (say 0). So we have the conditions\n",
    "$$T(0,t) = 0 \\mbox{ and } T(1,t) = 0, \\mbox{ for all times $t$.}$$"
   ]
  },
  {
   "cell_type": "markdown",
   "metadata": {},
   "source": [
    "We have first and second derivatives in the equation, so we kinda expect sines and cosines, and exponentials to be important. To get the boundary conditions, we can guess that sines are important, and try\n",
    "$$T(x,t) = \\sin(n\\pi x) E(t),$$\n",
    "where $E(t)$ is some unknown function.\n",
    "\n",
    "You might recognize this as \"separation of variables.\"\n",
    "\n",
    "Plug this $T(x,t) = \\sin(n\\pi x) E(t)$ into the heat equation to get\n",
    "$$\\sin(n\\pi x) E'(t) = -(n\\pi)^2 \\sin(n\\pi x) E(t),$$\n",
    "which simplifies to \n",
    "$$E'(t) = -(n\\pi)^2 E(t)$$\n",
    "which we can solve with an exponential\n",
    "$$E(t) = \\exp(- (n\\pi)^2 t).$$"
   ]
  },
  {
   "cell_type": "markdown",
   "metadata": {},
   "source": [
    "## Basic solutions\n",
    "\n",
    "So we have found a basic family of solutions to the heat equation, on a finite interval, as \n",
    "$$T(x,t) = \\sin(n\\pi x) \\exp(-(n\\pi)^2 t).$$\n",
    "\n",
    "## General solutions\n",
    "\n",
    "A more general solution is to take a linear combination of such solutions, and write\n",
    "$$ T(x,t) = \\sum_{n=1}^\\infty a_n \\sin(n\\pi x) \\exp(-(n\\pi)^2 t).$$\n",
    "\n",
    "Notice at $t=0$, the exponential simplifies to 1, so we have\n",
    "$$ T(x,0) = \\sum_{n=1}^\\infty a_n \\sin(n\\pi x).$$\n",
    "\n"
   ]
  },
  {
   "cell_type": "markdown",
   "metadata": {},
   "source": [
    "## Statement of a solvable problem.\n",
    "\n",
    "So, given the heat equation \n",
    "$$\\frac{\\partial T}{\\partial t} = \\frac{\\partial^2 T}{\\partial x^2}. $$\n",
    "on a finite rod of length 1 with boundary conditions \n",
    "$$T(0,t) = 0 \\mbox{ and } T(1,t) = 0, \\mbox{ for all times $t$}$$\n",
    "and initial conditions\n",
    "$$ T(x,0) = f(x), \\mbox{ for some function $f$, }$$\n",
    "then in the special case where we can write $f$ as a sum\n",
    "$$ f(x) = \\sum_n a_n \\sin(n\\pi x),$$\n",
    "then the solution for temperature is \n",
    "$$ T(x,t) = \\sum_n a_n \\sin(n\\pi x) \\exp(-(n\\pi)^2 t).$$"
   ]
  },
  {
   "cell_type": "markdown",
   "metadata": {},
   "source": [
    "## Mr Fourier\n",
    "\n",
    "This is where Fourier came in. He was interested in heat, because he wanted to make cannons, which involves drilling a hole in a big cylinder of iron, which gets really hot. He also spent a lot of time in Egypt. \n",
    "\n",
    "He could also do math.\n",
    "\n",
    "in 1806, he basically said \"Every function on the interval can be written as a sum of sines and cosines.\" Mathematicians spent much of the 1800's trying to make rigorous his ideas about summing up functions! (See real analysis!)"
   ]
  },
  {
   "cell_type": "markdown",
   "metadata": {},
   "source": [
    "## The idea of Fourier coefficients.\n",
    "\n",
    "The idea is, if you write\n",
    "$$ f(x) = \\sum_n a_n \\sin(n\\pi x),$$\n",
    "then you can recover the value of any $a_n$ by integrating $f$ against $\\sin(n\\pi x)$. For finite sums, this is just some easy calculus:\n",
    "\n",
    "$$\\int_0^1 f(x) \\sin(n_o \\pi x) dx = \\sum_n a_n \\int_0^1 \\sin(n\\pi x) \\sin(n_o\\pi x) dx,$$\n",
    "and notice all those products of sines integrate to zero. Except when $n=n_o$, so we get\n",
    "$$\\int_0^1 f(x) \\sin(n_o \\pi x) dx =  a_{n_o} \\int_0^1 \\sin^2(n_0\\pi x) = a_{n_o}/2.$$\n",
    "Thus we have a formula for the $a_n$:\n",
    "$$a_n = 2\\int_0^1 f(x) \\sin(n \\pi x) dx.$$\n",
    "\n",
    "Fourier's great insight was that this works for much more general functions than finite sums of sines.\n",
    "\n",
    "Fourier also had to touch on the question of what does \"equal\" really mean when you try to write one function as an infinite sum of other functions. (Pointwise convergence, almost everywhere convergence, convergence in mean, convergence in norm.)"
   ]
  },
  {
   "cell_type": "markdown",
   "metadata": {},
   "source": [
    "## Fourier series for periodic functions\n",
    "\n",
    "Fourier was also interested in functions that could be written in this form:\n",
    "\n",
    "$$f(x) = \\sum_n a_n \\sin(n\\pi x) + \\sum_m b_n \\cos(n\\pi x).$$\n",
    "\n",
    "These are periodic function -- $f(x+1) = f(x)$, so the function repeats itself with period 1. This leads to the usual Fourier series you learned in other classes, with sines and cosines. Same mathematical idea.\n",
    "\n",
    "Physical idea: This corresponds to a metal rod bent into the shape of a circle.\n",
    "\n",
    "Or, the cross section of a metal cannon. Remember, Fourier was interested in cannons."
   ]
  },
  {
   "cell_type": "markdown",
   "metadata": {},
   "source": [
    "## Fourier transforms on the real line (or half line)\n",
    "\n",
    "Instead of a finite rod, think of a really really long rod that starts out at $x=0$ and extends to the right as $x\\rightarrow \\infty$. Using separation of variables, we can write down some basic solutions to the heat equation as\n",
    "$$T(x,t) = \\sin(\\lambda x)\\exp(-\\lambda^2 t),$$\n",
    "where $\\lambda$ is any real number. We can limit ourselves to $\\lambda > 0$ since the negative numbers just give the same functions, with a sign change. \n",
    "\n",
    "Notice these functions all satisfy the boundary condition\n",
    "$$T(0,t) = 0 \\mbox{ for all $t$,}$$\n",
    "since the sines vanish at zero. So for free, we get the boundary condition of zero degrees temperature at the origin $x=0$.\n",
    "\n",
    "We could take a sum of these basic functions, but since that parameter $\\lambda$ is real-valued, we can take an integral, and write a general solution\n",
    "$$ T(x,t) = \\int_0^\\infty a(\\lambda) \\sin(\\lambda x)\\exp(-\\lambda^2 t) d\\lambda.$$\n",
    "\n",
    "Again, with this definition, we notice that\n",
    "$$ T(x,0) = \\int_0^\\infty a(\\lambda) \\sin(\\lambda x) d\\lambda,$$\n",
    "since the exponential at $t=0$ reduces to one.\n",
    "\n",
    "Thus our initial condition will be\n",
    "$$T(x,0) = f(0) = \\int_0^\\infty a(\\lambda) \\sin(\\lambda x) d\\lambda.$$\n"
   ]
  },
  {
   "cell_type": "markdown",
   "metadata": {},
   "source": [
    "## Finding the solution:\n",
    "\n",
    "So, given $f$, how to we find the coefficients $a(\\lambda)$. The idea is just like in the Fourier series case. We integrate, to get\n",
    "$$a(\\lambda) = c\\int_0^\\infty f(x) \\sin(\\lambda x) dx,$$\n",
    "where $c$ is some constant.\n",
    "\n",
    "You might like to try to figure out what the constant $c$ is. (In the series example, it was 1/2. Here it will be something like $\\pi$ or $\\sqrt{\\pi}$ or $\\sqrt{2\\pi}$, etc.)\n",
    "\n",
    "Good exercise for you!"
   ]
  },
  {
   "cell_type": "markdown",
   "metadata": {},
   "source": [
    "## Fourier's insight\n",
    "\n",
    "Again, Fourier's deep insight was that many functions on the real line can be written this way. Which was a major challenge to the mathematicians of the 1800s."
   ]
  },
  {
   "cell_type": "markdown",
   "metadata": {},
   "source": [
    "## Example\n",
    "\n",
    "Can we run the spectrogram code?"
   ]
  },
  {
   "cell_type": "markdown",
   "metadata": {},
   "source": [
    "# Non-dimensionalization\n",
    "- the goal is to remove physical units and physical parameters, to get at the core mathematical system.\n",
    "- usually done by rescaling the equations describing the physical process\n",
    "- an equation for a physical process is a balance of physical mechanisms (e.g. forces due to gravity, friction, fluid viscosity, etc.) but these mechanisms are not of equal importance\n",
    "- to assess teh relative improtance, we scale by 'typical' values for the parameters, given by boundary conditions, geometry, etc.\n",
    "- result is an equation will only dimensionless variable\n",
    "- physical parameters collapse into a smaller collection of dimensionless paramets.\n",
    "- these dimesionless elements should tell us eht relative importance of the various mechanisms."
   ]
  },
  {
   "cell_type": "markdown",
   "metadata": {},
   "source": [
    "### Dropping the primes\n",
    "It is common to rewrite the scaled equation\n",
    "$$\\frac{\\rho c U a}{k}( \\frac{\\partial T'}{\\partial t'} + \\mathbf{u'}\\cdot\\nabla' T') =  \\nabla'^2 T'$$\n",
    "simply as\n",
    "$$P_e( \\frac{\\partial T}{\\partial t} + \\mathbf{u}\\cdot\\nabla T) =  \\nabla^2 T,$$\n",
    "where $P_e$ is our dimensionless parameter, and the variable $u,t,T$ etc are actually the scaled, dimensionless variables, just with the primes hidden. \n",
    "\n",
    "This is called \"dropping the primes\" and it is pretty standard practice in math modeling. Confusing if you haven't seen it before, and you should be prepared for physicists and others to yell at you that your dimensions are all wrong (and therefore, they will conclude, you must be an idiot). \n",
    "\n",
    "But you're not wrong! It is a scaled equation, with everything dimensionless. Done on purpose so we get to the heart of the mathematical problem. "
   ]
  },
  {
   "cell_type": "markdown",
   "metadata": {},
   "source": [
    "#0. regular Pendulum example\n",
    "\n",
    "<img src=\"images/Pendulum.png\" alt=\"A hot rod\" width=\"400\"/>\n",
    "<center> A pendulum, length L, mass m, $\\theta$ the angle. </center>\n",
    "\n",
    "\n",
    "Do this on the board. Relatively easy.\n",
    "\n",
    "Recall the equation $$m L \\frac{d^2\\theta}{dt^2} + mg\\sin\\theta = 0,$$\n",
    "where the first term is the mass times acceleration, second term is the force due to gravity. \n",
    "\n",
    "Try some choices to scale this.\n",
    "\n"
   ]
  },
  {
   "cell_type": "markdown",
   "metadata": {},
   "source": [
    "## 1. Damped Pendulum Example\n",
    "See the picture above. Imagine a simple pendulum consisting of a string of length $l$, attached to a bob of mass $m$, and we measure the angle from vertical as $\\theta$. The forces on the pendulum are due to gravity, and some friction proportional to the velocity. Newtons's second law (force equals mass times acceleration) gives us the ODE\n",
    "$$m l \\frac{d^2\\theta}{dt^2} + mk \\frac{d\\theta}{dt} + mg\\sin\\theta = 0,$$\n",
    "where the first term is the mass times acceleration, second term is the friction, third term is the force due to gravity. (We only take the component of gravity perpendicular to the pendulum, since the component along the pendulum is balanced by tension in the string.) I threw in an extra $m$ in the middle term, so we can cancel to get:\n",
    "$$ l \\frac{d^2\\theta}{dt^2} + k \\frac{d\\theta}{dt} + g\\sin\\theta = 0.$$\n",
    "\n",
    "We introduce initial conditions:\n",
    "$$\\theta = \\theta_0, \\frac{d\\theta}{dt} = \\omega_0, \\mbox{ at $t=0$.}$$\n",
    "\n",
    "Checking units, we see\n",
    "$$[g] = [L][T]^{-2}, [k] = [L][T]^{-1},$$\n",
    "where we sort of force the choice on $k$ in order to get the equation to balance. (i.e. te friction force is a bit of a hack here.)\n",
    "\n",
    "There are at least three choices for a possible \"normal\" time scale in the problem:\n",
    "- $t_1 = \\sqrt{\\frac{l}{g}}$ which is roughly the period of small, undamped oscillations\n",
    "- $t_2 = \\frac{l}{k}$ which is the damping time for the fraction-damped motion\n",
    "- $t_3 = \\frac{1}{\\omega_0}$ which is the time to move one full radian, if there were no forces of gravity or friction.\n",
    "\n",
    "What is important to note is that we do have a choice here, and we should should a normal time for the kind of problem we want to study. For instance, if we have a really fast rotating pendulum (that is, the initial velocity is set to be really high), we might want to use $t_3$ as the standard time. \n",
    "\n",
    "Let's chooce $t_1$ as the standard time, which is appropriate if we are looking for behaviour that is close to undamped, small oscilations. Our scaled time is given by\n",
    "$$ t = t_1 t'$$\n",
    "and so the equation of motion becomes\n",
    "$$ \\frac{d^2\\theta}{dt'^2} + \\frac{t_1}{t_2} \\frac{d\\theta}{dt'} + \\sin\\theta = 0$$\n",
    "with initial conditions\n",
    "$$ \\theta = \\theta_0, \\frac{d\\theta}{dt'} = \\frac{t_1}{t_3} \\mbox{ at $t=0$.}$$\n",
    "\n",
    "This model now has two dimensionless parameter:\n",
    "- $\\gamma = \\frac{t_1}{t_2} = \\sqrt{\\frac{k^2}{gl}}$, the ratio of the time for gravity effects, to time for damping effects\n",
    "- $\\beta_0 = \\frac{t_1}{t_3} = \\sqrt{\\frac{\\omega_0^2 l}{g}}$, ratio of time for one period of oscillation, to the time for rotating one full circle in the absense of other forces. \n",
    "\n",
    "Dropping primes, we write this non-dimensional model as:\n",
    "$$ \\frac{d^2\\theta}{dt^2} + \\gamma \\frac{d\\theta}{dt} + \\sin\\theta = 0$$\n",
    "with initial conditions\n",
    "$$ \\theta = \\theta_0, \\frac{d\\theta}{dt} = \\beta_0 \\mbox{ at $t=0$.}$$\n",
    "\n",
    "Again, note we have gotten rid of all physical constants, leaving only a few dimensionless parameter. We can argue about how many there are. From one point of view, $\\gamma$ is a dimensionless parameter, while $\\theta_0, \\beta_0$ are just initial conditions for the dimentionless variable $\\theta$. So, is that one parameter? Or three?\n",
    "\n"
   ]
  },
  {
   "cell_type": "markdown",
   "metadata": {},
   "source": [
    "## 2. Navier-Stokes Example\n",
    "The Navier-Stokes equation is the workhorse of fluid mechanics, used for everything from designing places and space shuttles, to understanding the flow of oil in a pipe line (or even in your house's plumbing). Remarkable, these equations are 200 years old, and they still represent state-of-the-art for understanding fluid flow. Even more remarkably, their basic mathematical properties are not completely understood. For instance, it is not even know whether solutions always exist in 3D. (See the Clay Institute Prizes if you need a million dollar prize to motivate you to work on this!)\n",
    "\n",
    "The equations represents Newton's second law (Mass times acceleration = force) for an incompressible, Newtonian viscous fluid, given as\n",
    "$$\\rho(\\frac{\\partial\\mathbf{u}}{\\partial t} + \\mathbf{u}\\cdot \\nabla \\mathbf{u} ) \n",
    "= -\\nabla p + \\mu \\nabla^2 \\mathbf{u}, $$\n",
    "which is Newton's law (where the LHS uses the material derivative to express acceleration) and\n",
    "$$ \\nabla\\cdot\\mathbf{u} = 0,$$\n",
    "which is the incompressible condition.\n",
    "\n",
    "Here, the various variables and parameters are:\n",
    "- $\\mathbf{u} = \\mathbf{u}(\\mathbf{x},t)= $ fluid velocity, which is a vector quantity\n",
    "- $p = p(\\mathbf{x},t) = $ pressure in the fluid\n",
    "- $\\rho = \\rho(\\mathbf{x},t) = $ fluid density\n",
    "- $\\mu = \\mu (\\mathbf{x},t) = $ dynamic viscosity\n",
    "\n",
    "Usually we do this in 3 dimensions, so $\\mathbf x$ is a 3-vector. Thus the quantity $-\\nabla p$ is the force on the fluid due to pressure, and $\\mu \\nabla^2 \\mathbf{u}$ is the force due to viscosity. \n",
    "\n",
    "Dynamic viscosity might be a new idea to you; it measure how much the fluid resists flowing. (Think of molasses). We can check its units by observing $\\rho$ times $\\frac{\\partial\\mathbf{u}}{\\partial t}$ will be in units of $[M][L]^{-3}[L][T]^{-2}$ while $\\nabla^2 \\mathbf{u}$ is in units $[L]^{-1}[T]^{-1}$, so $\\mu$ is in units\n",
    "$$[\\mu] = [M][L]^{-3}[L][T]^{-2} \\quad / \\quad [L]^{-1}[T]^{-1} = [M][L]^{-1}[T]^{-1}.$$\n",
    "\n",
    "Kinematic viscosity is defined as the ratio of dynamic viscosity to density, so\n",
    "$$\\nu = \\frac{\\mu}{\\rho,}$$\n",
    "which has units $[L]^2[T]^{-1}.$\n"
   ]
  },
  {
   "cell_type": "markdown",
   "metadata": {},
   "source": [
    "To begin the non-dimensionalization, imagine we have fluid flow around a body of size $L$ with free stream velocity $U\\mathbf{e}_1$. (Think of our hot pipe example above. Or a plane flying through the air at speed $U$.) We can scale our variables as\n",
    "- distances by $L$:  $\\mathbf{x} = L \\mathbf{x}'$\n",
    "- time by   $U/L$:  $t = (L/U) t'$\n",
    "- velocity by $U$: $\\mathbf{u} = U \\mathbf{u}'$\n",
    "\n",
    "Pressure has not been scaled yet, and we aren't sure quite how to do it, so let's introduce an unknown scaling factor $P_0$ to be determined later:\n",
    "$$ p = P_0 p'.$$\n",
    "\n",
    "Plug all these scalings into the momentum equation (noting that we get incompressiblity $\\nabla' \\cdot \\mathbf{u}' = 0$ for free), to get the primed equation\n",
    "$$\\frac{\\rho U^2}{L}(\\frac{\\partial\\mathbf{u}'}{\\partial t'} + \\mathbf{u}'\\cdot \\nabla' \\mathbf{u}' ) \n",
    "= -\\frac{P_0}{L}\\nabla' p' + \\frac{\\mu U}{L^2} \\nabla'^2 \\mathbf{u'}. $$\n",
    "Divide this all by $\\frac{\\rho U^2}{L}$ to get \n",
    "$$\\frac{\\partial\\mathbf{u}'}{\\partial t'} + \\mathbf{u}'\\cdot \\nabla' \\mathbf{u}' \n",
    "= -\\frac{P_0}{\\rho U^2}\\nabla' p' + \\frac{\\mu}{\\rho U L} \\nabla'^2 \\mathbf{u'}. $$\n",
    "Looking at the pressure term, we see things simplify if we choose our pressure scaling as \n",
    "$$P_0 = \\rho U^2$$\n",
    "leaving us with a dimensionless equation with only one free parameter:\n",
    "$$\\frac{\\partial\\mathbf{u}'}{\\partial t'} + \\mathbf{u}'\\cdot \\nabla' \\mathbf{u}' \n",
    "= -\\nabla' p' + \\frac{1}{Re} \\nabla'^2 \\mathbf{u'}. $$\n",
    "Here, the dimensionless parameter $Re$ is called the Reynold's number, and is given as\n",
    "$$ Re = \\frac{\\rho U L }{\\mu} = \\frac{UL}{\\nu}.$$\n",
    "\n",
    "Dropping primes, we write:\n",
    "$$\\frac{\\partial\\mathbf{u}}{\\partial t} + \\mathbf{u}\\cdot \\nabla \\mathbf{u} \n",
    "= -\\nabla p + \\frac{1}{Re} \\nabla^2 \\mathbf{u}. $$\n",
    "\n",
    "\n",
    "Amazingly, we have reduced the problems with 4 physical parameters $\\rho, \\mu, L, U$ into a dimensionless problem with only one parameter, the Reynold's number. If all you are concerned about are basic viscous effects in fluid flow, all you need to know is the Reynold's number! This is the basis for the idea of using scale models and air tunnels to test airplane design and more. These scaled versions will exactly represent what happens with the \"real\" aircraft. \n",
    "\n",
    "Meaning of the Reynold's number:\n",
    "$$ Re = \\frac{\\rho U L}{\\mu} = \\frac{\\rho U^2}{\\mu U/L},$$\n",
    "which we can interpret as the ratio of the force due to inertial mass of the fluid (mass times velocity squared) with respect to the force due to viscous forces. \n",
    "\n",
    "This suggests when $Re$ is high, the inertial fluids dominate. When $Re$ is low, the viscous forces dominate.\n",
    "\n",
    "For very large $Re$, the term $\\frac{1}{Re} \\nabla^2 \\mathbf{u}$ will be small, so it is tempting to write the equations of motion as\n",
    "$$\\frac{\\partial\\mathbf{u}}{\\partial t} + \\mathbf{u}\\cdot \\nabla \\mathbf{u}  \n",
    "= -\\nabla p \\mbox{ and } \\nabla\\cdot \\mathbf{u} = 0.$$\n",
    "These are Euler's equations for fluid flow, for an incompressible, non-viscous fluid. \n",
    "\n",
    "For very small $Re$, it turns out we can scale pressure by the constant $\\tilde{P}_0 = \\mu U/L$ to obtain the dimensionless equation\n",
    "$$Re ( \\frac{\\partial\\mathbf{u}}{\\partial t} + \\mathbf{u}\\cdot \\nabla \\mathbf{u}) \n",
    "= -\\nabla p + \\nabla^2 \\mathbf{u} \\mbox{ and } \\nabla\\cdot \\mathbf{u} = 0.$$\n",
    "Dropping the RHS, we obtain the Stokes flow model for slow, viscous flow. That is, we write\n",
    "$$ 0 = -\\nabla p + \\nabla^2 \\mathbf{u}\n",
    "\\mbox{ and } \\nabla\\cdot \\mathbf{u} = 0.$$\n"
   ]
  },
  {
   "cell_type": "code",
   "execution_count": null,
   "metadata": {},
   "outputs": [],
   "source": []
  }
 ],
 "metadata": {
  "kernelspec": {
   "display_name": "Python 3",
   "language": "python",
   "name": "python3"
  },
  "language_info": {
   "codemirror_mode": {
    "name": "ipython",
    "version": 3
   },
   "file_extension": ".py",
   "mimetype": "text/x-python",
   "name": "python",
   "nbconvert_exporter": "python",
   "pygments_lexer": "ipython3",
   "version": "3.6.7"
  }
 },
 "nbformat": 4,
 "nbformat_minor": 2
}
