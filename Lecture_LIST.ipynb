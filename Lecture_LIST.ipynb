{
 "cells": [
  {
   "cell_type": "markdown",
   "metadata": {},
   "source": [
    "# <center> Math 502, Winter 2019 </center>\n",
    "\n",
    "## <center> Instructor: M. Lamoureux </center>\n",
    "\n",
    "## <center> Master Lecture List </center>"
   ]
  },
  {
   "cell_type": "markdown",
   "metadata": {},
   "source": [
    "- [Lecture 1](Lecture01.ipynb)  January 10\n",
    "- [Lecture 2](Lecture02_MathModeling.ipynb)  January 15\n",
    "- [Lecture 3](Lecture03_Jan17.ipynb)  January 17\n",
    "- [Lecture 4](Lecture04_Jan22.ipynb)  January 22\n",
    "- [Lecture 5](Lecture05_Jan24_PhysicalModeling.ipynb)  January 24\n",
    "- [Lecture 6](Lecture06_Jan29.ipynb)  January 29\n",
    "- [Lecture 7](Lecture07_Jan31.ipynb)  January 31\n",
    "- [Lecture 8](Lecture08_Feb5_Asymptotics.ipynb)  Feburary 5\n",
    "- [Lecture 9](Lecture09_Feb7_Asymptotics.ipynb)  February 7\n",
    "- [Lecture 9a - numerics](Lecture09a_Asymptotics_numerics.ipynb) February 7\n",
    "- [Lecture 10](Lecture10_Feb12_PianoAsymptotics.ipynb)  February 12\n",
    "- [Lecture 10a - numerics](Lecture10a_Feb12_PianoAsymptotics.ipynb)  February 12\n"
   ]
  },
  {
   "cell_type": "code",
   "execution_count": null,
   "metadata": {},
   "outputs": [],
   "source": []
  }
 ],
 "metadata": {
  "kernelspec": {
   "display_name": "Python 3",
   "language": "python",
   "name": "python3"
  },
  "language_info": {
   "codemirror_mode": {
    "name": "ipython",
    "version": 3
   },
   "file_extension": ".py",
   "mimetype": "text/x-python",
   "name": "python",
   "nbconvert_exporter": "python",
   "pygments_lexer": "ipython3",
   "version": "3.7.2"
  }
 },
 "nbformat": 4,
 "nbformat_minor": 2
}
