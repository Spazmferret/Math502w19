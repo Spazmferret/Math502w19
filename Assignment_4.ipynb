{
 "cells": [
  {
   "cell_type": "markdown",
   "metadata": {},
   "source": [
    "# Assignment 4\n",
    "\n",
    "### Math 502 - Lamoureux\n",
    "\n",
    "### Due April 4, 2019"
   ]
  },
  {
   "cell_type": "markdown",
   "metadata": {},
   "source": [
    "## Exercise 0\n",
    "\n",
    "Fix a constant $\\lambda >0$. Find a solution to the delay differential equation\n",
    "$$y'(x) = -\\lambda y(x-1), \\qquad y(0) = 1,$$\n",
    "where we are looking for a function $y=y(x)$ that satisfies this equation.\n",
    "\n",
    "Does your solution decay over time? At what rate? Do you think the decay rate is somehow related to the delay in the differential equation? (Here the delay is 1, since we have a $x-1$ in the DE.) Test your idea by solving a related equation $y'(x) = -\\lambda y(x-x_0)$.\n"
   ]
  },
  {
   "cell_type": "markdown",
   "metadata": {},
   "source": [
    "## Exercise 1\n",
    "\n",
    "A sequence $a= (\\ldots, a_{-2},a_{-1}, a_0, a_1, a_2, \\ldots)$ is called **anti-symmetric** if $$a_{-n} = -a_n \\mbox{ for all $n$. }$$\n",
    "For instance, the sequence $a= (\\ldots, 0,0, 1,-3,5,0,-5,3,-1,0,0,\\ldots)$ is anti-symmetric, when we label the middle 0 as $a_0.$\n",
    "\n",
    "- Show that the Fourier transform $\\hat{a}(\\theta)$ of an anti-symmetric sequence is purely imaginary (its real part is zero.)\n",
    "- Show that $\\hat{a}(1-\\theta) = -\\hat{a}(\\theta)$ for all $\\theta$ if $a$ is anti-symmetric\n",
    "- Show that the convolution $a*a$ is symmetric whenever $a$ is anti-symmetric. \n",
    "\n",
    "Hint: If you are finding this hard for general sequences $a$, try to solve it for that one example $$a= (\\ldots, 0,0, 1,-3,5,0,-5,3,-1,0,0,\\ldots).$$\n"
   ]
  },
  {
   "cell_type": "markdown",
   "metadata": {},
   "source": [
    "## Exercise 2\n",
    "\n",
    "Here's a little trick to keep convolution from making our sequences \"too long.\"\n",
    "\n",
    "Recall if you convolve two sequence $a,b$ of length N, the result is of length 2N-1.\n",
    "\n",
    "To \"fix\" this, we can define **circular convolution**  as $c = a\\otimes b$, using the formula \n",
    "$$c_k = \\sum_{j=0}^{N-1} a_{k-j}b_j, \\mbox{ with $k-j$ computed modulo $N$.}$$\n",
    "\n",
    "So, for instance, the convolution of length-3 sequences is given as \n",
    "$$(a_0,a_1,a_2)\\otimes (b_0,b_1,b_2) = \n",
    "(a_0b_0 + a_1b_2 + a_2b_1, a_0b_1 + a_1b_0 + a_2b_2, a_0b_2 + a_1b_1 + a_2 b_0).$$\n",
    "\n",
    "(Notice each component on the RHS has 3 terms, and the indices in each component add up to the same number, mod 3.)\n",
    "\n",
    "1. Compute the circular convolution: $(1,1,0,0)\\otimes(1,2,3,4)$. The result should have length 4.\n",
    "2. Compute the regular convolution: $(1,1,0,0) * (1,2,3,4)$. The result should have length 7. \n",
    "3. Compare your two answers. What parts are the same, what are different?\n",
    "4. Compute the DFT of the three sequences $a = (1,1,0,0)$ , $b = (1,2,3,4)$, $c = (1,1,0,0)\\otimes(1,2,3,4)$. Either by hand, or using Python. (Each result will be a length-4 sequence, with complex values.)\n",
    "5. Verify your results in \\#4, by showing that the DFT of c is equal to the product of the DFT of a times the DFT of b.\n",
    "\n",
    "DFT = Discrete Fourier transform. It takes vectors of length N and produces vectors of length N, using that formula we saw in class.\n",
    "\n",
    "\n",
    "\n"
   ]
  },
  {
   "cell_type": "markdown",
   "metadata": {},
   "source": [
    "## Exercise 3\n",
    "\n",
    "In the notes to lecture 18, we took the 2D Fourier transform of the identity matrix. As an image, this took a line pointing at 45 degrees down, and transformed it into a line at 45 degrees up.\n",
    "\n",
    "Write some code to explore this idea further. Take a big array of zeros, and then fill in a line at some angle. Take the 2D FFT and display it -- it should look like a line, going at a different direction.\n",
    "\n",
    "Once you get the lines working, see if you can describe the relation between the angle (or slope) of the input and output lines. \n",
    "\n",
    "Can you prove this relationship between the angles?\n",
    "\n"
   ]
  },
  {
   "cell_type": "markdown",
   "metadata": {},
   "source": [
    "## Exercise 4\n",
    "\n",
    "This is an exploration exercise. \n",
    "\n",
    "- Take a geometric figure, place into a NxN array to create an image. \n",
    "- Its a good idea to take N to be a power of 2, like 128 or 256.\n",
    "- Take the 2D FFT of the image, and save the absolute values as a NxN array.\n",
    "- Plot the original image and absolute value of the FFT of the image.\n",
    "- You might also try fftshift on the image (see Lecture 18 again)\n",
    "- Can you see any connection between the geometric figure and its FFT?\n",
    "\n",
    "For instance, we saw in Exercise 3 that the FFT of a line was a line.\n",
    "\n",
    "What is the FFT of a square? A circle? A triangle? A polygon?\n",
    "\n",
    "Try the outline of a circle, and a solid (filled in) circle. Also for the other shapes.\n",
    "\n",
    "Try creating a pattern in the image. \n",
    "- Parallel lines\n",
    "- Grid lines in x and y direction\n",
    "- Rectangular array of dots \n",
    "- Hexagonal array of dots.\n",
    "What does the FFT of these things look like?\n",
    "\n",
    "**Note:** There is no right answer here, I just want you to explore some shapes and patterns. \n",
    "\n",
    "**Historical note:** In the early 1900s when scientists were trying to discover the atomic structure of crystals, they could essentially \"see\" the FFT of the arrangement of atoms in the crystal, but not see the arrangement itself. So it was an important challenge to be able to guess the arrangement only by looking at the FFT of the image. (Actually, they could only look at the absolute value of the FFT.)\n",
    "\n",
    "The structure of DNA, a double helix, was discovered by Watson and Crick in 1953. Their work depended heavily upon  the X-ray images produced by Rosalind Franklin, which is essentially the FFT images as above. Watson and Crick received the Nobel prize in 1962; Franklin died of cancer in 1958.\n",
    "\n",
    "\n"
   ]
  },
  {
   "cell_type": "code",
   "execution_count": null,
   "metadata": {},
   "outputs": [],
   "source": []
  }
 ],
 "metadata": {
  "kernelspec": {
   "display_name": "Python 3",
   "language": "python",
   "name": "python3"
  },
  "language_info": {
   "codemirror_mode": {
    "name": "ipython",
    "version": 3
   },
   "file_extension": ".py",
   "mimetype": "text/x-python",
   "name": "python",
   "nbconvert_exporter": "python",
   "pygments_lexer": "ipython3",
   "version": "3.7.2"
  }
 },
 "nbformat": 4,
 "nbformat_minor": 2
}
