{
 "cells": [
  {
   "cell_type": "markdown",
   "metadata": {},
   "source": [
    "# Pantograph model\n",
    "\n",
    "Lecture 115 - March 12, 2019.\n",
    "\n",
    "Math 502 - Winter 2018\n",
    "\n",
    "Recall we are studying this example:\n",
    "\n",
    "An electric train, with overhead wires to supply power, has a **pantograph** on top, which is a spring-loaded lever that reaches up to touch the wire.\n",
    "\n",
    "<img src=\"images/Pantograph.png\" width=300 />\n",
    "\n",
    "We want to describe the mathematics of such a setup, which is important for high speed trains. For instance,  we need to know the wires don't start oscillating madly and fall off their supports, or disconnect from the train, or maybe make waves that reflect off the supports and do strange things. \n",
    "\n",
    "You should read about this model in Howison, Chapter 11. (\"Practical Applied Mathematics.\")\n",
    "\n",
    "You can read his Howison's text online here : [people.maths.ox.ac.uk/fowler/courses/tech/sdh.pdf](https://people.maths.ox.ac.uk/fowler/courses/tech/sdh.pdf)\n",
    "\n",
    "You may also read Chapeter 9 and 10, about **distributions** such as the Dirac delta function. \n"
   ]
  },
  {
   "cell_type": "markdown",
   "metadata": {},
   "source": [
    "### Plotting some solutions\n",
    "\n",
    "We've done some work solving this, let's take the opportunity to plot soem of the results so we can really \"see\" what is going on. \n",
    "\n",
    "First case we had was when the pantograph (or pole/lever) first touches the overhead wire. With no gravity, the solution is some kind of decaying exponential. The interesting features, though, is that there is kink in the wire where the pole touches the wire. And the contact point is moving. \n",
    "\n",
    "Let's see if we can capture all this in a plot.\n",
    "\n"
   ]
  },
  {
   "cell_type": "code",
   "execution_count": 3,
   "metadata": {},
   "outputs": [],
   "source": [
    "from numpy import *\n",
    "from matplotlib.pyplot import *\n",
    "from ipywidgets import interact\n"
   ]
  },
  {
   "cell_type": "code",
   "execution_count": 48,
   "metadata": {},
   "outputs": [
    {
     "data": {
      "application/vnd.jupyter.widget-view+json": {
       "model_id": "6af8fd50432048369bed2a6ef1972daa",
       "version_major": 2,
       "version_minor": 0
      },
      "text/plain": [
       "interactive(children=(FloatSlider(value=0.0, description='t', max=5.0, min=-5.0), Output()), _dom_classes=('wi…"
      ]
     },
     "metadata": {},
     "output_type": "display_data"
    }
   ],
   "source": [
    "## Let's plot a wave solution, in case you haven't seen that before\n",
    "\n",
    "def g(x):\n",
    "    return sin(3*x)*exp(-x**2)\n",
    "\n",
    "def h(x):\n",
    "    return cos(5*x)*exp(-(x**2))\n",
    "\n",
    "x = linspace(-10,10,500)\n",
    "                        \n",
    "def display(t):\n",
    "    plot(x,g(x-t)+h(x+t))\n",
    "    ylim([-1,1])\n",
    "\n",
    "interact(display,t=(-5.,5.,.1));                        "
   ]
  },
  {
   "cell_type": "markdown",
   "metadata": {},
   "source": [
    "## Solution  1\n",
    "\n",
    "Remember we had something like\n",
    "$$ y(x,t) = g(t-x) \\mbox{ in region 1}$$\n",
    "and $$ y(x,t) = h(t+x) \\mbox{ in region 2} $$\n",
    "and zero outside these regions (when $x>t$ or $x<-t$). \n",
    "\n",
    "The form for $g(t)$ was a constant plus expontial, $g(=A(1-\\exp(t-x))$ while $h$ was given by a continuity condition at the contact point $x = ut$, so\n",
    "$$ g(t-ut) =  h(t + ut).$$ \n",
    "From thus, we see we have\n",
    "$$h(t) = g(\\frac{1-u}{1+u}t).$$"
   ]
  },
  {
   "cell_type": "code",
   "execution_count": 36,
   "metadata": {},
   "outputs": [
    {
     "data": {
      "application/vnd.jupyter.widget-view+json": {
       "model_id": "2eb3f2a49f8b4d25916e72364baf7cd1",
       "version_major": 2,
       "version_minor": 0
      },
      "text/plain": [
       "interactive(children=(FloatSlider(value=1.0, description='t', max=2.0), FloatSlider(value=0.5, description='u'…"
      ]
     },
     "metadata": {},
     "output_type": "display_data"
    }
   ],
   "source": [
    "A = -1  # some scaling constant that comes from the reduced DE\n",
    "\n",
    "def y1(x,t,u):\n",
    "    if x > t:\n",
    "        return 0\n",
    "    if x < -t:\n",
    "        return 0\n",
    "    if x > u*t:\n",
    "        return A*(1-exp(x-t))\n",
    "    if x < u*t:\n",
    "        return A*(1-exp((1-u)*(x+t)/(1+u)))\n",
    "    \n",
    "def y1a(x,t,u):\n",
    "    left = A*(1-exp((1-u)*(x+t)/(1+u)))\n",
    "    right = A*(1-exp(t-x))\n",
    "    return maximum(0,minimum(left,right))\n",
    "\n",
    "x = linspace(-2,2,500)\n",
    "\n",
    "def display1(t,u):\n",
    "    plot(x,y1a(x,t,u))\n",
    "    ylim([-.1,1.5])\n",
    "\n",
    "interact(display1,t=(0.,2.,.1),u=(.1,.95,.05));"
   ]
  },
  {
   "cell_type": "markdown",
   "metadata": {},
   "source": [
    "### Warning:\n",
    "\n",
    "We set A= -1, but really it might depend on u (and the spring constants). So this picture is a bit misleading. Maybe you would like to try to fix this...\n",
    "\n",
    "Here is my rough work as I tried to get the code to run properly. Python is fussy about vectors and tests like x > t, when x is a vector and t is a scalar. "
   ]
  },
  {
   "cell_type": "code",
   "execution_count": 23,
   "metadata": {},
   "outputs": [
    {
     "data": {
      "image/png": "[encoded data removed]",
      "text/plain": [
       "<Figure size 432x288 with 1 Axes>"
      ]
     },
     "metadata": {
      "needs_background": "light"
     },
     "output_type": "display_data"
    }
   ],
   "source": [
    "A = -1\n",
    "u = .5\n",
    "t = .5\n",
    "x = linspace(-2,2,100)\n",
    "left = A*(1-exp((1-u)*(x+t)*(1+u)))\n",
    "right = A*(1-exp(t-x))\n",
    "plot(x,maximum(0,minimum(left,right)));"
   ]
  },
  {
   "cell_type": "markdown",
   "metadata": {},
   "source": [
    "## Solution  2\n",
    "\n",
    "This is the case where the train has just passed a support at x=0, so we can have a reflection of the wave off the back support. \n",
    "\n",
    "Remember we had something like\n",
    "$$ y(x,t) = g_1(t-x) \\mbox{ in region 1}$$\n",
    "and $$ y(x,t) = g_2(t-x) + h_2(t+x) \\mbox{ in region 2} $$\n",
    "and zero outside these regions (when $x>t$ or $x<-t$). \n",
    "\n",
    "After a lot of work, and some simplifying assumptions (e.g. $f_1 = 0$) we found that function $g_2$ is linear:\n",
    "$$g_2(t) = at.$$\n",
    "\n",
    "From the rigid support condition $g_2(t) + h_2(t) = 0$ we find that\n",
    "$$h_2(t) = -at.$$\n",
    "Thus we find in region 2 that\n",
    "$$y(x,t) = g_2(t-x) + h_2(t+x) = a(t-x) - a(t+x) = -2ax.$$\n",
    "\n",
    "Continuity at the contact point gives us\n",
    "$$g_1(t-ut) = g_2(t-ut) + h_2(t+ux) =  = -2aut,$$\n",
    "so we can write\n",
    "$$g_1(t) = \\frac{-2ut}{1-u}.$$\n",
    "\n",
    "So the answer is piecewise linear, and continuous.\n",
    "\n",
    "To be honest, this seems really boring!  On the plus side, we can graph piecewise linear functions really easily.\n",
    "\n",
    "The three important points, where we get a \"bend\" in the wire are\n",
    "$$ x = 0. x = ut, x=t.$$\n",
    "The value of $y(x,t)$ at these points are just\n",
    "$$y = 0, y= -2aut, y = 0.$$\n",
    " \n",
    "We display this in the next cell."
   ]
  },
  {
   "cell_type": "code",
   "execution_count": 38,
   "metadata": {},
   "outputs": [
    {
     "data": {
      "application/vnd.jupyter.widget-view+json": {
       "model_id": "962bb7e4c284428082c7a15771507062",
       "version_major": 2,
       "version_minor": 0
      },
      "text/plain": [
       "interactive(children=(FloatSlider(value=1.0, description='t', max=2.0), FloatSlider(value=0.5, description='u'…"
      ]
     },
     "metadata": {},
     "output_type": "display_data"
    }
   ],
   "source": [
    "a = -1  # some scaling constant that comes from the reduced DE\n",
    "\n",
    "def display2(t,u):\n",
    "    plot([0,u*t,t,3],[0,-2*a*u*t,0,0])\n",
    "    ylim([-.1,2.5])\n",
    "\n",
    "interact(display2,t=(0.,2.,.1),u=(.1,.95,.05));"
   ]
  },
  {
   "cell_type": "markdown",
   "metadata": {},
   "source": [
    "### Note:\n",
    "The triangular bump is symmetric when u=1/2. That's interesting. "
   ]
  },
  {
   "cell_type": "markdown",
   "metadata": {},
   "source": [
    "## Solution  3\n",
    "\n",
    "This is the case where we consider the whole span between two supports. Notice Howison only solved for the force function $f(t)$ of the pantograph. We want to know that this is well behaved. \n",
    "\n",
    "After a lot of work, he concludes $f(t)$ is piecewise continuous, and piecewise linear. The jumps occur at these times\n",
    "$$t_n = \\frac{1}{u}(1- \\mu^n),$$\n",
    "where the constant $\\mu = (1-u)/(1+u)$ is related to the train speed, and sits between 0 and 1. \n",
    "\n",
    "Notice this means the $t_n$ form a sequence that increases to 1, and gets dense there. So, you are hitting lots of reflections.\n",
    "\n",
    "The jump in f at $t_n$ is given by a recursion\n",
    "$$jump(f)_{t_n} = \\frac{f_2}{\\mu(2 + f_2)}jump(f)_{t_{n-1}}.$$\n",
    "We solve this easily, with\n",
    "$$jump(f)_{t_n} = \\left(\\frac{f_2}{\\mu(2 + f_2)} \\right)^n jump(f)_{t_0}.$$\n",
    "\n",
    "The jump in f' at $t_n$ is given by a recursion\n",
    "$$jump(f')_{t_n} = \\frac{f_2}{\\mu^2(2 + f_2)}jump(f)_{t_{n-1}}.$$\n",
    "We solve this easily, with\n",
    "$$jump(f')_{t_n} = \\left(\\frac{f_2}{\\mu^2(2 + f_2)} \\right)^n jump(f')_{t_0}.$$\n",
    "\n",
    "This is enough information to determine the piecewise continuous, piecewise linear function $f(t)$. \n",
    "\n",
    "Here's an exercise for the class. How do we plot this? Seems like it should be easy. "
   ]
  },
  {
   "cell_type": "code",
   "execution_count": null,
   "metadata": {},
   "outputs": [],
   "source": []
  }
 ],
 "metadata": {
  "kernelspec": {
   "display_name": "Python 3",
   "language": "python",
   "name": "python3"
  },
  "language_info": {
   "codemirror_mode": {
    "name": "ipython",
    "version": 3
   },
   "file_extension": ".py",
   "mimetype": "text/x-python",
   "name": "python",
   "nbconvert_exporter": "python",
   "pygments_lexer": "ipython3",
   "version": "3.7.2"
  }
 },
 "nbformat": 4,
 "nbformat_minor": 1
}
