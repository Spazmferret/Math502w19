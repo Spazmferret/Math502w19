{
 "cells": [
  {
   "cell_type": "markdown",
   "metadata": {
    "collapsed": true
   },
   "source": [
    "# Lecture 9 - Asymptotics\n",
    "\n",
    "February 7, 2019\n",
    "\n",
    "## Math 502 - University of Calgary\n",
    "## Mathematical Modeling for Industry\n",
    "## Winter 2019\n",
    "\n"
   ]
  },
  {
   "cell_type": "markdown",
   "metadata": {},
   "source": [
    "\n",
    "\n",
    "## More on asympotic expansions\n",
    "\n"
   ]
  },
  {
   "cell_type": "markdown",
   "metadata": {},
   "source": [
    "\n",
    "\n",
    "## The example $\\int_0^\\epsilon \\frac{e^{-1/t}}{t} \\, dt.$\n",
    "\n",
    "We discussed this example in the last class. It is a little artificial, bacause the $e^{-1/t}$ looks pretty odd. However, I did it this way so we could be explicilty working with a small parameter $\\epsilon.$ \n",
    "\n",
    "Up to a change of variables, it is closely related to this problem:\n",
    "\n",
    "\n",
    "## The next example: $\\int_L^\\infty \\frac{e^{-t}}{t} \\, dt,$ for $L$ large.\n",
    "\n",
    "![exponential image](images/Exponential.png)\n",
    "\n",
    "You look at this curve in the image, and clearly the integral will go to zero as $L$ goes to infinity, as the negative exponential goes to zero really fast. \n",
    "\n",
    "How fast?\n",
    "\n",
    "Well, a first approximation is to replace the $1/t$ in the integral with $1/L$, since that $1/L$ is always larger that $1/t$ so we get\n",
    "$$\\int_L^\\infty \\frac{e^{-t}}{t} \\, dt < \\int_L^\\infty \\frac{e^{-t}}{L } \\, dt = \\frac{e^{-L}}{L},$$\n",
    "since we can compute that exponenial integral on the right, directly .\n",
    "\n",
    "This is the start of an asymptotic expansion. Using integration by parts, we can get a formula involves a sum of power of $1/L$, and a remainder terms whose size we can bound. To begin, for the first integration by parts, set $u = 1/t$ and $dv = e^{-t} dt.$ So $du = -(1/t^2)dt, v = -e^{-t}$. We get \n",
    "$$\\int_L^\\infty \\frac{e^{-t}}{t} \\, dt = -\\frac{e^{-t}}{t}\\biggr\\rvert_{t=L}^\\infty - \\int_0^\\epsilon \\frac{e^{-t}}{t^2} \\, dt = \\frac{e^{-L}}{L} - \\int_L^\\infty \\frac{e^{-t}}{t^2} \\, dt.$$\n",
    "\n",
    "Now the integral on the right is bounded by $e^{-L}/{L^2}$, so we actually have a first order expansion\n",
    "$$\\int_L^\\infty \\frac{e^{-t}}{t} = \\frac{e^{-L}}{L} + O(L^{-2})e^{-L}.$$\n",
    "\n",
    "We can repeat the integration by parts ( say $u = 1/t^2$, $du = -2/t^3$, and repeat)  to get the expansion\n",
    "$$\\int_L^\\infty \\frac{e^{-t}}{t} \\, dt = e^{-L} \\left( \\frac{1}{L} - \\frac{2!}{L^2} + \\frac{3!}{L^3} - \\cdots + (-1)^n \\frac{n!}{L^n} \\right) \n",
    "+ n!\\int_L^\\infty \\frac{e^{-t}}{t^{n+1}} \\, dt.$$\n",
    "\n",
    "Now, the final integral on the right is of order $O(1/L^{n+1})e^{-L}$, so if we drop that, we do have an expansion that meets our definition of an asymptotic expansion:\n",
    "$$\\int_L^\\infty \\frac{e^{-t}}{t} \\, dt \\approx e^{-L} \\left( \\frac{1}{L} - \\frac{2!}{L^2} + \\frac{3!}{L^3} - \\cdots + (-1)^n \\frac{n!}{L^n} \\right).$$\n",
    "\n",
    "It is important to notice that this asymptotic expansions **does not** converge as $n\\rightarrow\\infty.$ The problem is that the infinite series that results is not convergent for any $L\\neq 0$. \n",
    "\n",
    "So why is it important? The point is, for any fixed $n$, the finite series is a good approximate to the integral, as $L\\rightarrow\\infty$. So the point is, we fix the $n$, and ask **how good is this approximation, as $L$ gets really large.\n",
    "\n",
    "Not only is it a good approximation, but we can say how good. Here, the n-th order approxation has an error that is only of order $O(1/L^{n+1})e^{-L}.$\n"
   ]
  },
  {
   "cell_type": "markdown",
   "metadata": {},
   "source": [
    "## Asymptotics, to study perturbation\n",
    "\n",
    "We can use asymptotic expansions to study physical systems that have been perturbed slightly. \n",
    "\n",
    "The idea is we start with some system where we know an answer, and ask -- what happens if we make a small change?\n",
    "\n",
    "The idea is we have a solution that is a known function, say $x = x_0(t)$, and when we perturb the system, we get a new function that might have an asymptotic expansion, like this:\n",
    "$$x(t) = x_0(t) + \\epsilon x_1(t) + \\epsilon^2 x_2(t) + \\mbox{ higher terms.}$$\n",
    "We use some equations to try to find the new functions $x_1(t), x_2(t)4, etc.\n",
    "\n",
    "Let's start with an example, to see how it works. \n"
   ]
  },
  {
   "cell_type": "markdown",
   "metadata": {
    "collapsed": true
   },
   "source": [
    "## Perturbing a satellite as it orbits the earth.\n",
    "\n",
    "Imagine a satellite (in red) orbiting the earth (in blue). What happens if you give it a little kick? Does it keep orbiting, does it wobble in the orbit, or what?\n",
    "\n",
    "Here is a picture, with the original circular orbit (on the left) and the possible resulting, wiggly orbit, after a kick hits the orbit.\n",
    "\n",
    "![orbits](images/Orbits.png)\n",
    "\n",
    "This analysis comes from the book by Howison, page 184."
   ]
  },
  {
   "cell_type": "markdown",
   "metadata": {},
   "source": [
    "In polar coordinates $(r,\\theta)$ the equations of motion for a satellite travelling around the earth is:\n",
    "$$\\ddot{r} - r\\dot{\\theta}^2 = -\\frac{GM}{r^2}, \\qquad \\frac{1}{r} \\frac{d}{dt}\\left( r^2 \\dot{\\theta} \\right) = 0,\n",
    "\\qquad \\mbox{ODEs 1,2},$$\n",
    "where $G,M$ are the gravitational constant, and the mass of the earth, respectively.\n",
    "\n",
    "You can understand these two terms as the radial and tangential componenet of acceleration, expressed in polar coordinates. So these equations are really just Newton's lay, mass time acceleration equals force. (Here, the force is the force of gravity, which acts only in the radial direction. The tangential direction is zero.)\n",
    "\n",
    "The second ODE  above can be solved immediately: since $\\frac{d}{dt}\\left( r^2 \\dot{\\theta} \\right) = 0,$ we conclude that $r^2 \\dot{\\theta} = h$, some constant. (Of course from physics, this is just saying the angular momentum is conserved, and thust constant.)\n",
    "\n",
    "To get the circular orbit, just set $r$ to a constant, and the derivative of $\\theta$ to a constant as well,\n",
    "so\n",
    "$$r = a, \\dot{\\theta} = \\omega.$$\n",
    "Plugging into the ODEs above, we find\n",
    "$$a\\omega^2 = \\frac{GM}{a^2} \\mbox{ and } a^2\\omega = h,$$\n",
    "so we keeo that in mind that constants $GM$ and $h$ can be expressed in terms of $a$ and $\\omega$, the parameters of the circular solutions.\n",
    "\n",
    "\n",
    "\n"
   ]
  },
  {
   "cell_type": "markdown",
   "metadata": {},
   "source": [
    "#### Perturbing.\n",
    "\n",
    "Now, imagine giving a small velocity to the satellite, say $\\epsilon v$, in the radial direction. For instance, maybe an astronaut is taking a space walk and jumps away from the satelite. We expect the resulting orbit should only change by a small amount, so we can try to write down an asymptotic expansion. Since we have two functions $r, \\theta$ we need to write two expanions:\n",
    "$$r(t) = a + \\epsilon r_1(t) + \\cdots, \\qquad \\dot{\\theta} = \\omega + \\epsilon\\dot{\\theta}_1(t) + \\cdots,$$\n",
    "where $\\epsilon$ is a very small parameter, very much smaller than one. \n",
    "\n",
    "We will plug these expansions into the two ODEs above, and then look at only the order epsilon terms.\n",
    "\n",
    "The first ODE becomes\n",
    "$$ \\epsilon\\ddot{r_1} + \\cdots -(a + \\epsilon r_1 + \\cdots)( \\omega + \\epsilon\\dot{\\theta}_1 + \\cdots)^2 = \n",
    "-\\frac{GM}{(a + \\epsilon r_1 + \\cdots)^2}, \\qquad \\mbox{ ODE 1}\\epsilon$$\n",
    "and the second ODE, integrated to $r^2\\dot\\theta = h = a^2\\omega$ becomes\n",
    "$$(a + \\epsilon r_1 + \\cdots)^2(\\omega + \\epsilon\\dot{\\theta}_1 + \\cdots) = a^2\\omega \\qquad\\mbox{ ODE 2}\\epsilon.$$\n",
    "\n",
    "We expand this first ODE as \n",
    "$$ \\epsilon\\ddot{r_1} + \\cdots -(a + \\epsilon r_1 + \\cdots)( \\omega^2 + 2\\epsilon\\omega\\dot{\\theta}_1 + \\cdots)^2 = \n",
    "-\\frac{GM}{a^2}(1-2\\epsilon r_1/a + \\cdots),$$\n",
    "and multiplying it all out, keeps only the constant and $\\epsilon$ terms gives\n",
    "$$ \\epsilon\\ddot{r_1} + \\cdots -a\\omega^2 - \\epsilon r_1 \\omega^2 - 2\\epsilon a\\omega\\dot{\\theta}_1  + \\cdots= \n",
    "-\\frac{GM}{a^2} + 2\\epsilon \\frac{GM}{a^3}r_1 + \\cdots.$$\n",
    "\n",
    "Now notice the $a\\omega^2$ on the left hand side cancels the $\\frac{GM}{a^2}$ on the right hand side, since we have from the above work on the circular solution, that $a\\omega^2 = \\frac{GM}{a^2}$.\n",
    "\n",
    "Now look at the terms that have just $\\epsilon$ to the first power in it, and we get\n",
    "$$ \\epsilon\\ddot{r_1}  - \\epsilon r_1 \\omega^2 - 2\\epsilon a\\omega\\dot{\\theta}_1  = \n",
    " 2\\epsilon \\frac{GM}{a^3}r_1.$$\n",
    " Again, the RHS simplifies to $\\omega^2 r_1$, so it matches a term on the LHS, which we bring over to get a $-3\\epsilon r_1 \\omega^2.$ Cancelling the $\\epsilon$ factors, we get and we can write\n",
    " $$\\ddot{r_1}  - 3 r_1 \\omega^2 - 2 a\\omega\\dot{\\theta}_1  = 0.  \\qquad\\mbox{ODE 1 - simplified}$$"
   ]
  },
  {
   "cell_type": "markdown",
   "metadata": {},
   "source": [
    "Looks at equation ODE 2$\\epsilon$ we start as  \n",
    "$$(a + \\epsilon r_1 + \\cdots)^2(\\omega + \\epsilon\\dot{\\theta}_1 + \\cdots) = a^2\\omega,$$ and expand\n",
    "$$(a^2 + 2\\epsilon a r_1 + \\cdots)(\\omega + \\epsilon\\dot{\\theta}_1 + \\cdots) = a^2\\omega,$$ and then\n",
    "$$a^2\\omega + 2\\epsilon a r_1\\omega + \\epsilon a\\dot{\\theta}_1 + \\cdots = a^2\\omega.$$\n",
    "Cancel out the $a^2\\omega$ on each side, the look at the $\\epsilon$ terms and find\n",
    "$$2 a r_1\\omega +  a^2\\dot{\\theta}_1  = 0.$$\n",
    "Multiply by $\\omega$, divide by $a$ to get\n",
    "$$2 r_1\\omega^2 +  a\\omega\\dot{\\theta}_1  = 0,$$\n",
    "and we see this looks like a term in IDE 1 - simplified, above. So plug this in and we get\n",
    "$$\\ddot{r_1}  - 3 r_1 \\omega^2 - 2 (-2 r_1\\omega^2)   = 0$$\n",
    "which becomes\n",
    "$$\\ddot{r_1}  + r_1 \\omega^2 = 0.$$"
   ]
  },
  {
   "cell_type": "markdown",
   "metadata": {},
   "source": [
    "We, we know how to solve this. $r_1$ will be a sum of sines and cosines, with frequency parameter $\\omega$.\n",
    "\n",
    "## Results of perturbation\n",
    "\n",
    "We shoulg think about what this means. The perturbation term has the same frequency as the original circular orbit. So it's not a lot of wiggles, but instead one wiggle in, one wiggle out, on each orbit.\n",
    "\n",
    "It looks like this. In this picture, the solid circle is the original orbit, and the dotted curve is the perturned orbit. \n",
    "\n",
    "![wiggly orbit](images/Orbit_wiggle.png)"
   ]
  },
  {
   "cell_type": "markdown",
   "metadata": {},
   "source": [
    "## Question\n",
    "\n",
    "What is the solution for the function $\\dot\\theta_1$? We solved for $r_1$, but the perturbation also means we have a perturbation for the function $\\dot\\theta = \\omega + \\epsilon\\dot\\theta_1 + \\cdots$. Can you look at the work above and figure out what is $\\dot\\theta_1$?"
   ]
  },
  {
   "cell_type": "code",
   "execution_count": null,
   "metadata": {},
   "outputs": [],
   "source": []
  }
 ],
 "metadata": {
  "kernelspec": {
   "display_name": "Julia 1.0.3",
   "language": "julia",
   "name": "julia-1.0"
  },
  "language_info": {
   "file_extension": ".jl",
   "mimetype": "application/julia",
   "name": "julia",
   "version": "1.0.3"
  }
 },
 "nbformat": 4,
 "nbformat_minor": 1
}
