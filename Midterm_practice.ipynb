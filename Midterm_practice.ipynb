{
 "cells": [
  {
   "cell_type": "markdown",
   "metadata": {},
   "source": [
    "## Midterm practice\n",
    "\n",
    "Expect something like 4 to 5 questions. Some samples are as follows:\n",
    "\n"
   ]
  },
  {
   "cell_type": "markdown",
   "metadata": {},
   "source": [
    "### Q1.  \n",
    "\n",
    "Show me some code. Write a short function in code, to compute $\\sin(x)$ to an accuracy of $\\pm 10^{-4}$. Your code cannot call any trig function -- just use plus, minus, times and divide, and some loops.\n",
    "\n",
    "You can use the formula $$\\sin(x) = x - \\frac{x^3}{3!} + \\frac{x^5}{5!} - \\cdots.$$ You can assume $-1 < x < 1.$\n",
    "\n",
    "(You can write it in Python, or in pseudo-code. Don't worry too much abour the syntax, just get the logic correct.)\n",
    "\n",
    "\n"
   ]
  },
  {
   "cell_type": "markdown",
   "metadata": {},
   "source": [
    "### Q2.\n",
    "\n",
    "A rock of mass $m$ is dropped (from rest) off a cliff of height $L$, under the influence of gravity. Use Buckingham Pi theorem to show the time it takes to fall is proportional to $L^\\alpha$, for some fixed number $\\alpha$. What is the value of $\\alpha$?\n",
    "\n",
    "If you like, you can check your answer using calculus, but I want you to derive the result using Buckingham Pi."
   ]
  },
  {
   "cell_type": "markdown",
   "metadata": {},
   "source": [
    "### Q3. \n",
    "\n",
    "Suppose we have a 1D wave equation, with a forcing term, given by\n",
    "$$ \\rho\\frac{\\partial^2 u}{\\partial t^2} + K \\frac{\\partial^2 u}{\\partial x^2} = F\\sin(t),$$\n",
    "for some physical constants $\\rho, K,F$. \n",
    "\n",
    "Show how to non-dimensionalize the problem, by rescaling to obtain the form\n",
    "$$ \\frac{\\partial^2 u}{\\partial t^2} +  \\frac{\\partial^2 u}{\\partial x^2} = \\sin(\\omega t).$$\n",
    "\n",
    "What is the value of $\\omega$?\n"
   ]
  },
  {
   "cell_type": "markdown",
   "metadata": {},
   "source": [
    "### Q4\n",
    "\n",
    "There are a few options here. Might be a question on separation of variables, or a traffic flow model. Or it might be an asymptotic expansion related to solving an equation or integral. Or maybe a perturbation to a differential equation (but if so, it would involve an DE that is easy to solve.)\n",
    "\n",
    "Keeping the options open here.\n",
    "\n",
    "Here's a separation of varables that might be interesting.\n",
    "\n",
    "A metal beam will vibrate when struck, but in a manner different than an elastic string. A fourth order ODE is obtained, when dimensionless, as\n",
    "$$u_{xxxx} + u_{tt} = 0.$$\n",
    "\n",
    "Find solutions to this problem, using separation of variable. Choose some reasonable boundary conditions at the points $x=0, \\pi$ to make this a weel-defined problem."
   ]
  },
  {
   "cell_type": "code",
   "execution_count": null,
   "metadata": {},
   "outputs": [],
   "source": []
  }
 ],
 "metadata": {
  "kernelspec": {
   "display_name": "Python 3",
   "language": "python",
   "name": "python3"
  },
  "language_info": {
   "codemirror_mode": {
    "name": "ipython",
    "version": 3
   },
   "file_extension": ".py",
   "mimetype": "text/x-python",
   "name": "python",
   "nbconvert_exporter": "python",
   "pygments_lexer": "ipython3",
   "version": "3.7.2"
  }
 },
 "nbformat": 4,
 "nbformat_minor": 2
}
