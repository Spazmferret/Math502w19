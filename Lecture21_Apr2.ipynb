{
 "cells": [
  {
   "cell_type": "markdown",
   "metadata": {},
   "source": [
    "# AMAT502:  Lecture 21\n",
    "\n",
    "April 2, 2019.\n",
    "\n",
    "Michael Lamoureux"
   ]
  },
  {
   "cell_type": "markdown",
   "metadata": {},
   "source": [
    "## Fun with filters\n",
    "\n",
    "I sort of realized that we can have some fun with filtering in this class, give the tools in a Jupyter notebook. So let's play."
   ]
  },
  {
   "cell_type": "code",
   "execution_count": 95,
   "metadata": {},
   "outputs": [],
   "source": [
    "## Some startup commands\n",
    "\n",
    "%matplotlib inline\n",
    "from numpy import * \n",
    "from scipy import *\n",
    "from math import tau\n",
    "from matplotlib.pyplot import *\n",
    "from IPython.display import IFrame\n",
    "from IPython.display import Audio, display  ## to output audio\n",
    "\n",
    "from ipywidgets import interact\n",
    "from scipy.signal import lfilter\n",
    "\n"
   ]
  },
  {
   "cell_type": "markdown",
   "metadata": {},
   "source": [
    "## Summary - \n",
    "\n",
    "\n",
    "- What is a filter?\n",
    "- Filters using convolution\n",
    "- Filter properties as revealed by Fourier transform\n",
    "- Filter design, for simple filters\n",
    "- Recursive filters\n",
    "- Filter design using software tools"
   ]
  },
  {
   "cell_type": "markdown",
   "metadata": {},
   "source": [
    "## Filter design\n",
    "\n",
    "We can move between filters coefficients and filter reponse using the Fourier transform. Finite filters are connected to polynomials in $z$. Roots of the polynomial tell us all we need to know about the filter or polynomial. "
   ]
  },
  {
   "cell_type": "markdown",
   "metadata": {},
   "source": [
    "### Ideal lowpass, highpass filter\n",
    "\n",
    "The idea lowpass filter looks like this:"
   ]
  },
  {
   "cell_type": "code",
   "execution_count": 2,
   "metadata": {},
   "outputs": [
    {
     "data": {
      "application/vnd.jupyter.widget-view+json": {
       "model_id": "2e758d01c0a34426bffa2edf0e945ed7",
       "version_major": 2,
       "version_minor": 0
      },
      "text/plain": [
       "interactive(children=(FloatSlider(value=0.2, description='f0', max=0.5, step=0.01), Output()), _dom_classes=('…"
      ]
     },
     "metadata": {},
     "output_type": "display_data"
    }
   ],
   "source": [
    "## Plot a low pass response\n",
    "\n",
    "def displayLow(f0=0.2):\n",
    "    f=linspace(0,0.5,1024)\n",
    "    H = (1-sign(f-f0))/2\n",
    "    plot(f,H,'-');\n",
    "\n",
    "\n",
    "interact(displayLow,f0=(0,.5,.01));"
   ]
  },
  {
   "cell_type": "markdown",
   "metadata": {},
   "source": [
    "The frequence $f=0.2$ where the jump happens is called the cutoff frequency.\n",
    "\n",
    "A high pass filter looks like the following: "
   ]
  },
  {
   "cell_type": "code",
   "execution_count": 3,
   "metadata": {},
   "outputs": [
    {
     "data": {
      "application/vnd.jupyter.widget-view+json": {
       "model_id": "cb6fc57a172040558fd5afe9f23ef476",
       "version_major": 2,
       "version_minor": 0
      },
      "text/plain": [
       "interactive(children=(FloatSlider(value=0.2, description='f0', max=0.5, step=0.01), Output()), _dom_classes=('…"
      ]
     },
     "metadata": {},
     "output_type": "display_data"
    }
   ],
   "source": [
    "## Plot a high pass response\n",
    "\n",
    "def displayHigh(f0=0.2):\n",
    "    f=linspace(0,0.5,1024)\n",
    "    H = (1+sign(f-f0))/2\n",
    "    plot(f,H,'-');\n",
    "\n",
    "\n",
    "interact(displayHigh,f0=(0,.5,.01));"
   ]
  },
  {
   "cell_type": "markdown",
   "metadata": {},
   "source": [
    "## An integration trick\n",
    "\n",
    "We know we can compute the Fourier coefficients for the filter by using the Fourier transform. Take advantage of the fact the the function is periodic. Let's look at the lowpass filter response, over a longer interval. Notice the function is both periodic, and symmetric around f=0."
   ]
  },
  {
   "cell_type": "code",
   "execution_count": 4,
   "metadata": {},
   "outputs": [
    {
     "data": {
      "application/vnd.jupyter.widget-view+json": {
       "model_id": "018d9a6404c34ba2b2da1aef313e71c3",
       "version_major": 2,
       "version_minor": 0
      },
      "text/plain": [
       "interactive(children=(FloatSlider(value=0.2, description='f0', max=0.5, step=0.01), Output()), _dom_classes=('…"
      ]
     },
     "metadata": {},
     "output_type": "display_data"
    }
   ],
   "source": [
    "## Plot a low pass response\n",
    "\n",
    "def displayLow2(f0=0.2):\n",
    "    f=linspace(-1,1,1024)\n",
    "    f_per = mod(f,1)\n",
    "    H = (1-sign(f_per-f0))/2 + (1-sign(1-f_per-f0))/2\n",
    "    plot(f,H,'-');\n",
    "\n",
    "\n",
    "interact(displayLow2,f0=(0,.5,.01));"
   ]
  },
  {
   "cell_type": "markdown",
   "metadata": {},
   "source": [
    "To get the filter coefficients for the low pass filter, we choose a convenient interval of length one. Since we have symmetric around zero, it makes sense to integrate on the symmetric interval $[-0.5,0.5]$ which has length one. "
   ]
  },
  {
   "cell_type": "markdown",
   "metadata": {},
   "source": [
    "We can compute the integral, noting that the function $H(\\omega)$ is equal to one only on the subinterval $[-f_0,f_0]$. So the integral reduces to an integral on that smaller interval.\n",
    "\n",
    "\n",
    "\n",
    "$$h_n = \\int_{-f_0}^{f_0} H(\\omega) e^{-2\\pi i n \\omega} d\\omega = \n",
    "\\int_{-f_0}^{f_0} \\cos(2\\pi n\\omega) + i\\sin(2\\pi n \\omega) d\\omega  $$\n",
    "$$= 2\\int_{0}^{f_0} \\cos(2\\pi n\\omega) d\\omega + 0 = \n",
    "\\frac{\\sin(2 \\pi n f_0 )}{n \\pi} =2f_0 \\mbox{sinc}(2 f_0 n),$$\n",
    "where we use the fact that the sine function is odd, so it integrates to zero. The cosine function is even, so we can integrate on half the interval, and double it.\n",
    "\n",
    "Note we are using the normalized sinc function as defined by\n",
    "$$\\mbox{sinc}(x) = \\frac{\\sin(\\pi x)}{\\pi x}.$$\n",
    "\n",
    "(There is also a non-normalized sinc function, which does not have the $\\pi$ in it. We are not useing that one.)"
   ]
  },
  {
   "cell_type": "markdown",
   "metadata": {},
   "source": [
    "In the last lecture, we looked at the coefficient for $f+0 = .2$ Here it is again."
   ]
  },
  {
   "cell_type": "code",
   "execution_count": 5,
   "metadata": {},
   "outputs": [
    {
     "data": {
      "image/png": "[encoded data removed]",
      "text/plain": [
       "<Figure size 432x288 with 1 Axes>"
      ]
     },
     "metadata": {
      "needs_background": "light"
     },
     "output_type": "display_data"
    }
   ],
   "source": [
    "n = arange(-20,21)\n",
    "h = 0.4*sinc(0.4*n)\n",
    "plot(n,h,'.');"
   ]
  },
  {
   "cell_type": "markdown",
   "metadata": {},
   "source": [
    "Let's animate this. We can select the filter cutoff frequency f0, and see how the filter coefficients change. You might notice for low freqeuncy f0, we can see the shape of the sinc function, sampled. \n",
    "\n",
    "In the frequency domain, we look at the interval $[-0.5,0.5]$."
   ]
  },
  {
   "cell_type": "code",
   "execution_count": 6,
   "metadata": {},
   "outputs": [
    {
     "data": {
      "application/vnd.jupyter.widget-view+json": {
       "model_id": "2896d19981f24f8b9802f3e4f29f286a",
       "version_major": 2,
       "version_minor": 0
      },
      "text/plain": [
       "interactive(children=(FloatSlider(value=0.1, description='f0', max=0.5, step=0.01), Output()), _dom_classes=('…"
      ]
     },
     "metadata": {},
     "output_type": "display_data"
    }
   ],
   "source": [
    "## Plot a low pass response, and 41 filter coefficients\n",
    "\n",
    "def displayLow3(f0=0.1):\n",
    "    f=linspace(-0.5,0.5,1024)\n",
    "    f_per = mod(f,1)\n",
    "    H = (1-sign(f_per-f0))/2 + (1-sign(1-f_per-f0))/2\n",
    "    n = arange(-20,21)\n",
    "    h = 2*f0*sinc(2*f0*n)\n",
    "    fig = figure(figsize=(12,3))\n",
    "    ax1 = fig.add_subplot(121)\n",
    "    ax2 = fig.add_subplot(122)\n",
    "    ax1.plot(f,H,'-');\n",
    "    ax2.plot(n,h,'.');\n",
    "\n",
    "\n",
    "interact(displayLow3,f0=(0,.5,.01));"
   ]
  },
  {
   "cell_type": "markdown",
   "metadata": {},
   "source": [
    "## Let's look at Gibbs phenomena. \n",
    "\n",
    "We can adjust both the cutoff frequency for the lowpass filter, and the number of coefficients we use in the filter. "
   ]
  },
  {
   "cell_type": "code",
   "execution_count": 8,
   "metadata": {},
   "outputs": [
    {
     "data": {
      "application/vnd.jupyter.widget-view+json": {
       "model_id": "3a4a7461ba9445849b3d73476c2be95a",
       "version_major": 2,
       "version_minor": 0
      },
      "text/plain": [
       "interactive(children=(FloatSlider(value=0.1, description='f0', max=0.5, step=0.01), IntSlider(value=40, descri…"
      ]
     },
     "metadata": {},
     "output_type": "display_data"
    }
   ],
   "source": [
    "## Plot a low pass filter, and the FFT of the truncated coefficients\n",
    "\n",
    "def displayLow4(f0=0.1,nmax=40):\n",
    "    nmax2 = round(nmax/2)\n",
    "    f=linspace(-0.5,0.5,1024)\n",
    "    f_per = mod(f,1)\n",
    "    H = (1-sign(f_per-f0))/2 + (1-sign(1-f_per-f0))/2\n",
    "    n = arange(-nmax2,nmax2+1)\n",
    "    h = 2*f0*sinc(2*f0*n)\n",
    "    hlong = 0*linspace(0,1,1024)\n",
    "    hlong[0:size(h)] =h\n",
    "    fig = figure(figsize=(12,3))\n",
    "    ax1 = fig.add_subplot(121)\n",
    "    ax2 = fig.add_subplot(122)\n",
    "    ax1.plot(f,H,'-');\n",
    "    ax2.plot(f,abs(np.fft.fftshift(fft(hlong))));\n",
    "\n",
    "\n",
    "interact(displayLow4,f0=(0,.5,.01),nmax=(2,60,2));"
   ]
  },
  {
   "cell_type": "code",
   "execution_count": null,
   "metadata": {},
   "outputs": [],
   "source": [
    "hlong = 0*linspace(0,1,1024)\n",
    "hlong[0:size(h)] =h\n",
    "plot(abs(fft(hlong)));"
   ]
  },
  {
   "cell_type": "markdown",
   "metadata": {},
   "source": [
    "# These ripples are called Gibbs phenomena. \n",
    "\n",
    "They don't go away even as as you add more terms. "
   ]
  },
  {
   "cell_type": "code",
   "execution_count": null,
   "metadata": {},
   "outputs": [],
   "source": [
    "nmax = 50  ## Try different values here. 10, 20, 50, 100\n",
    "n = arange(-nmax,nmax+1)\n",
    "h = 0.4*sinc(0.4*n)\n",
    "hlong = 0*linspace(0,1,1024)\n",
    "hlong[0:size(h)] =h\n",
    "f = linspace(0,1,size(hlong))\n",
    "plot(f,abs(fft(hlong)));"
   ]
  },
  {
   "cell_type": "markdown",
   "metadata": {},
   "source": [
    "## Truncating with a window\n",
    "\n",
    "What's going on here is the coefficients $h_n$ are being truncated to a finite non-zero sequence. This is the same as being mulplied by a window, in this case a function that is equal to 1 from -nmax to +nmax, and 0 othersze. The Fourier transform of this window is a sinc function, so it has the wiggles in it. As shown in this diagram:\n"
   ]
  },
  {
   "cell_type": "code",
   "execution_count": null,
   "metadata": {},
   "outputs": [],
   "source": [
    "nmax = 10  # this is the half-width of the truncating window\n",
    "N = 1024\n",
    "N2 = N//2\n",
    "f = linspace(0,1,N)\n",
    "wlong = 0*f\n",
    "wlong[0:2*nmax] = 1\n",
    "fftlong = fft(wlong)\n",
    "front = fftlong[0:N2]\n",
    "back = fftlong[N2:N]\n",
    "plot(f[0:N2],real(front),f[0:N2]-.5,real(back));"
   ]
  },
  {
   "cell_type": "markdown",
   "metadata": {},
   "source": [
    "So these wiggles get convolved with the square shape of the ideal lowpass filter, to get the wiggly version of the lowpass filter.\n",
    "\n"
   ]
  },
  {
   "cell_type": "code",
   "execution_count": null,
   "metadata": {},
   "outputs": [],
   "source": [
    "## Plot a low pass response\n",
    "N=1024\n",
    "N2 = 1024//2\n",
    "f=linspace(0,1,N)\n",
    "H = (1-sign(f-0.2))/2\n",
    "\n",
    "## Look at the FT of the square window function\n",
    "nmax = 10  ## Try different values here. 10, 20, 50, 100\n",
    "wlong = 0*f\n",
    "wlong[0:nmax] = 1\n",
    "wlong[(N-nmax):nmax] = 1\n",
    "fftlong = fft(wlong)\n",
    "front = real(fftlong[0:N2])\n",
    "back = real(fftlong[N2:N])\n",
    "\n",
    "#3 Now the FT of the truncated filter coefficients\n",
    "n = arange(-nmax,nmax+1)\n",
    "h = 0.4*sinc(0.4*n)\n",
    "hlong = 0*linspace(0,1,N)\n",
    "hlong[0:size(h)] =h\n",
    "\n",
    "ff, axs = subplots(1,3,figsize=(15,5))\n",
    "subplot(1,3,1,title='Ideal lowpass')\n",
    "plot(f,H,'-')\n",
    "subplot(1,3,2,title='Convolver due to window')\n",
    "plot(f[0:N2],front,f[0:N2]-.5,back)\n",
    "subplot(1,3,3,title='Resulting finite filter')\n",
    "plot(f,abs(fft(hlong)));\n",
    "\n"
   ]
  },
  {
   "cell_type": "markdown",
   "metadata": {},
   "source": [
    "## Other windows\n",
    "\n",
    "We can try other windows. \n",
    "\n",
    "Here is a Gaussian. The nice thing about a Gaussian is that its FT is also a Gaussian, so we get a nice smoother.\n",
    "\n",
    "Try different values of nmax"
   ]
  },
  {
   "cell_type": "code",
   "execution_count": null,
   "metadata": {},
   "outputs": [],
   "source": [
    "nmax = 30\n",
    "gfactor = 0.01 # factor inside the Gaussian. Try 0.1 0.01 etc\n",
    "n = arange(-nmax,nmax+1)\n",
    "h = 0.4*sinc(0.4*n)\n",
    "window = exp(gfactor*(-n**2)/nmax*nmax)\n",
    "h=h*window\n",
    "hlong = 0*linspace(0,1,1024)\n",
    "hlong[0:size(h)] =h\n",
    "plot(abs(fft(hlong)));"
   ]
  },
  {
   "cell_type": "markdown",
   "metadata": {},
   "source": [
    "## Cosine, cosine-squared windows\n"
   ]
  },
  {
   "cell_type": "code",
   "execution_count": null,
   "metadata": {},
   "outputs": [],
   "source": [
    "## A cosine window\n",
    "nmax = 10\n",
    "gfactor = 0.01 # factor inside the Gaussian. Try 0.1 0.01 etc\n",
    "n = arange(-nmax,nmax+1)\n",
    "h = 0.4*sinc(0.4*n)\n",
    "window = cos(0.5*pi*n/nmax)\n",
    "h=h*window\n",
    "hlong = 0*linspace(0,1,1024)\n",
    "hlong[0:size(h)] =h\n",
    "plot(abs(fft(hlong)));"
   ]
  },
  {
   "cell_type": "code",
   "execution_count": null,
   "metadata": {},
   "outputs": [],
   "source": [
    "## A cosine squared window\n",
    "nmax = 20\n",
    "gfactor = 0.01 # factor inside the Gaussian. Try 0.1 0.01 etc\n",
    "n = arange(-nmax,nmax+1)\n",
    "h = 0.4*sinc(0.4*n)\n",
    "window = cos(0.5*pi*n/nmax)**2\n",
    "h=h*window\n",
    "hlong = 0*linspace(0,1,1024)\n",
    "hlong[0:size(h)] =h\n",
    "plot(abs(fft(hlong)));"
   ]
  },
  {
   "cell_type": "markdown",
   "metadata": {},
   "source": [
    "## Roots of the filter response\n",
    "\n",
    "Recall the Fourier coefficients map out a polynomial in the complex plane. It is interesting to notice that the polynomial is determined by its roots. Many of the roots are on the unit circle, which forces the Fourier transform to be zero there. \n",
    "\n",
    "Here is a quick example of a lowpass filter with cutoff at f0=0.2\n",
    "\n",
    "Then look at the animated version."
   ]
  },
  {
   "cell_type": "code",
   "execution_count": 9,
   "metadata": {},
   "outputs": [
    {
     "data": {
      "text/plain": [
       "array([ 1.47486378+0.j        ,  1.1319377 +0.87420505j,\n",
       "        1.1319377 -0.87420505j, -0.98787003+0.15528296j,\n",
       "       -0.98787003-0.15528296j, -0.89265241+0.45074568j,\n",
       "       -0.89265241-0.45074568j, -0.71176603+0.70241663j,\n",
       "       -0.71176603-0.70241663j, -0.4635645 +0.88606318j,\n",
       "       -0.4635645 -0.88606318j, -0.1741932 +0.9847115j ,\n",
       "       -0.1741932 -0.9847115j ,  0.12064336+0.99269592j,\n",
       "        0.12064336-0.99269592j,  0.55337475+0.427376j  ,\n",
       "        0.55337475-0.427376j  ,  0.67802872+0.j        ])"
      ]
     },
     "execution_count": 9,
     "metadata": {},
     "output_type": "execute_result"
    }
   ],
   "source": [
    "N=1024\n",
    "N2 = 1024//2\n",
    "f=linspace(0,1,N)\n",
    "H = (1-sign(f-0.2))/2\n",
    "\n",
    "## Look at the FT of the square window function\n",
    "nmax = 9  ## Try different values here. Don't use a multiple of 10, otherwise the polynomial has zero coefficients at the ends . \n",
    "n = arange(-nmax,nmax+1)\n",
    "h = 0.4*sinc(0.4*n)\n",
    "\n",
    "r = roots(h)\n",
    "r\n"
   ]
  },
  {
   "cell_type": "code",
   "execution_count": 15,
   "metadata": {},
   "outputs": [
    {
     "data": {
      "image/png": "[encoded data removed]",
      "text/plain": [
       "<Figure size 432x288 with 1 Axes>"
      ]
     },
     "metadata": {
      "needs_background": "light"
     },
     "output_type": "display_data"
    }
   ],
   "source": [
    "plot(r.real,r.imag,'.');"
   ]
  },
  {
   "cell_type": "code",
   "execution_count": 17,
   "metadata": {},
   "outputs": [
    {
     "data": {
      "application/vnd.jupyter.widget-view+json": {
       "model_id": "b6661fecb7944a849db19aa4caa90fc2",
       "version_major": 2,
       "version_minor": 0
      },
      "text/plain": [
       "interactive(children=(FloatSlider(value=0.1, description='f0', max=0.5, step=0.01), IntSlider(value=42, descri…"
      ]
     },
     "metadata": {},
     "output_type": "display_data"
    }
   ],
   "source": [
    "## Plot a low pass filter, and the roots of the truncated coefficients\n",
    "\n",
    "## Note there are errors when the root finder fails. That's interesting. \n",
    "\n",
    "def displayLow5(f0=0.1,nmax=42):\n",
    "    nmax2 = round(nmax/2)\n",
    "    f=linspace(-0.5,0.5,1024)\n",
    "    f_per = mod(f,1)\n",
    "    H = (1-sign(f_per-f0))/2 + (1-sign(1-f_per-f0))/2\n",
    "    n = arange(-nmax2,nmax2+1)\n",
    "    h = 2*f0*sinc(2*f0*n)\n",
    "    r = roots(h)\n",
    "    fig = figure(figsize=(12,3))\n",
    "    ax1 = fig.add_subplot(121)\n",
    "    ax2 = fig.add_subplot(122)\n",
    "    ax1.plot(f,H,'-');\n",
    "    ax2.plot(r.real,r.imag,'.');\n",
    "    x = cos(linspace(0,tau))\n",
    "    y = sin(linspace(0,tau))\n",
    "    ax2.plot(x,y,'-')\n",
    "\n",
    "\n",
    "interact(displayLow5,f0=(0,.5,.01),nmax=(2,60,2));"
   ]
  },
  {
   "cell_type": "markdown",
   "metadata": {},
   "source": [
    "## Comments on the zeros\n",
    "\n",
    "Notice there are lots of zeros near the unit circle, but none near z=1 (since lowpass)\n",
    "\n",
    "## Comparing zeros\n",
    "\n",
    "Let's look at zeros for the hard truncated window, and then for the cosine-window truncated window."
   ]
  },
  {
   "cell_type": "code",
   "execution_count": 30,
   "metadata": {},
   "outputs": [
    {
     "data": {
      "image/png": "[encoded data removed]",
      "text/plain": [
       "<Figure size 432x288 with 1 Axes>"
      ]
     },
     "metadata": {
      "needs_background": "light"
     },
     "output_type": "display_data"
    }
   ],
   "source": [
    "## A cosine squared window\n",
    "n_coeff = 19 # an odd number of coefficients, for symmetry\n",
    "nmax = (n_coeff-1)/2\n",
    "n = arange(-nmax,nmax+1)\n",
    "h = 0.4*sinc(0.4*n)\n",
    "window = cos(0.5*pi*n/(nmax+1))**2\n",
    "hw=h*window\n",
    "r = roots(h)\n",
    "rw = roots(hw)\n",
    "plot(r.real,r.imag,'.',rw.real,rw.imag,'.')\n",
    "axis('equal');"
   ]
  },
  {
   "cell_type": "code",
   "execution_count": 31,
   "metadata": {},
   "outputs": [
    {
     "data": {
      "image/png": "[encoded data removed]",
      "text/plain": [
       "<Figure size 1080x576 with 2 Axes>"
      ]
     },
     "metadata": {
      "needs_background": "light"
     },
     "output_type": "display_data"
    }
   ],
   "source": [
    "ff, axs = subplots(1,2,figsize=(15,8))\n",
    "subplot(1,2,1)\n",
    "plot(r.real,r.imag,'.')\n",
    "xlim([-4,3])\n",
    "ylim([-4,3])\n",
    "subplot(1,2,2)\n",
    "plot(rw.real,rw.imag,'.')\n",
    "xlim([-4,3])\n",
    "ylim([-4,3]);\n"
   ]
  },
  {
   "cell_type": "markdown",
   "metadata": {},
   "source": [
    "## Let's animated a smooth interpolation between these two filters\n",
    "\n",
    "We can interpolated between two filters by taking a convex combination\n",
    "$$h = t\\cdot h_1 + (1-t)\\cdot h_2.$$\n",
    "\n",
    "The roots move in a pretty interesting way. Try it out. "
   ]
  },
  {
   "cell_type": "code",
   "execution_count": 27,
   "metadata": {},
   "outputs": [
    {
     "data": {
      "application/vnd.jupyter.widget-view+json": {
       "model_id": "230947c2e4c043a2a0fd17c16cb29519",
       "version_major": 2,
       "version_minor": 0
      },
      "text/plain": [
       "interactive(children=(FloatSlider(value=0.1, description='f0', max=0.5, step=0.01), IntSlider(value=19, descri…"
      ]
     },
     "metadata": {},
     "output_type": "display_data"
    }
   ],
   "source": [
    "## Plot a low pass filter, and interpolate between a window and a truncated filter\n",
    "\n",
    "## Note there are errors when the root finder fails. That's interesting. \n",
    "\n",
    "def displayLow6(f0=0.1,n_coeff=19,t=0):\n",
    "    nmax = round((n_coeff-1)/2)\n",
    "    f=linspace(-0.5,0.5,1024)\n",
    "    f_per = mod(f,1)\n",
    "    H = (1-sign(f_per-f0))/2 + (1-sign(1-f_per-f0))/2\n",
    "    n = arange(-nmax,nmax+1)\n",
    "    h1 = 2*f0*sinc(2*f0*n)\n",
    "    window = cos(0.5*pi*n/(nmax+1))**2\n",
    "    h2=h1*window\n",
    "    h = (1-t)*h1 + t*h2\n",
    "    r = roots(h)\n",
    "    fig = figure(figsize=(12,3))\n",
    "    ax1 = fig.add_subplot(121)\n",
    "    ax2 = fig.add_subplot(122)\n",
    "    ax1.plot(f,H,'-');\n",
    "    ax2.plot(r.real,r.imag,'.');\n",
    "    x = cos(linspace(0,tau))\n",
    "    y = sin(linspace(0,tau))\n",
    "    ax2.plot(x,y,'-')\n",
    "\n",
    "\n",
    "interact(displayLow6,f0=(0,.5,.01),n_coeff=(3,61,2),t=(0.0,1.0,.05));"
   ]
  },
  {
   "cell_type": "markdown",
   "metadata": {
    "collapsed": true
   },
   "source": [
    "#  Filters and sound \n",
    "\n",
    "We should be able to filter some sounds, and here the difference.\n",
    "\n",
    "Let's start by filtering some random noise. Both in low pass, and in high pass.\n",
    "\n",
    "Maybe we can even adjust the number of filters coefficients. \n",
    "\n",
    "You might want to verify that there is an easy formula to compute the coefficients of the high pass filter from the low pass. \n"
   ]
  },
  {
   "cell_type": "code",
   "execution_count": 91,
   "metadata": {},
   "outputs": [
    {
     "data": {
      "application/vnd.jupyter.widget-view+json": {
       "model_id": "9ad03d195e054c23a919f5bba710215b",
       "version_major": 2,
       "version_minor": 0
      },
      "text/plain": [
       "interactive(children=(FloatSlider(value=0.1, description='f0', max=0.5, step=0.01), IntSlider(value=19, descri…"
      ]
     },
     "metadata": {},
     "output_type": "display_data"
    }
   ],
   "source": [
    "Fs = 8000\n",
    "random_sd = random.randn(Fs)\n",
    "\n",
    "def displayAudio1(f0=0.1,n_coeff=19):\n",
    "    global h_lo,h_hi\n",
    "    nmax = round((n_coeff-1)/2)\n",
    "    n = arange(-nmax,nmax+1)\n",
    "    h1 = 2*f0*sinc(2*f0*n)\n",
    "    h2 = -h1\n",
    "    h2[nmax] = 1-h1[nmax]  # we compute the high pass filter coefficients\n",
    "    window = cos(0.5*pi*n/(nmax+1))**2\n",
    "    h_lo=h1*window\n",
    "    h_hi=h2*window\n",
    "    random_lo = convolve(h_lo,random_sd)\n",
    "    random_hi = convolve(h_hi,random_sd)\n",
    "    a1=Audio(data=random_sd, rate=Fs)\n",
    "    a2=Audio(data=random_lo, rate=Fs)\n",
    "    a3=Audio(data=random_hi, rate=Fs)\n",
    "    display(\"Original:\",a1,\"Low Pass:\",a2,\"Hi Pass:\",a3)\n",
    "\n",
    "\n",
    "interact(displayAudio1,f0=(0,.5,.01),n_coeff=(3,61,2));\n"
   ]
  },
  {
   "cell_type": "code",
   "execution_count": 61,
   "metadata": {},
   "outputs": [
    {
     "data": {
      "image/png": "[encoded data removed]",
      "text/plain": [
       "<Figure size 432x288 with 1 Axes>"
      ]
     },
     "metadata": {
      "needs_background": "light"
     },
     "output_type": "display_data"
    }
   ],
   "source": [
    "## We can check the coefficients\n",
    "plot(h_lo),plot(h_hi);"
   ]
  },
  {
   "cell_type": "code",
   "execution_count": 67,
   "metadata": {},
   "outputs": [
    {
     "data": {
      "image/png": "[encoded data removed]",
      "text/plain": [
       "<Figure size 432x288 with 1 Axes>"
      ]
     },
     "metadata": {
      "needs_background": "light"
     },
     "output_type": "display_data"
    }
   ],
   "source": [
    "## We can also check the frequency response\n",
    "f=linspace(-0.5,0.5,1024)\n",
    "hlong = 0*linspace(0,1,1024)\n",
    "hlong[0:size(h)] =h_hi\n",
    "plot(f,abs(np.fft.fftshift(fft(hlong))));"
   ]
  },
  {
   "cell_type": "markdown",
   "metadata": {},
   "source": [
    "## Recursive filters\n",
    "## Infinite Impulse Response (IIR) filters\n",
    "\n",
    "The filters above all had polynomials for their Fourier transform.\n",
    "\n",
    "We get a wider class of functions by considering rational functions of a complex variable $z$. That is, the ratio of two polynomials. Such a function has roots (zeros of the numerator) and poles (zeros of the denominator). Turns out you have have filters with whose *transfer function* is a rational function. Which is to say the Fourier transform of the filter is a rational function of complex variable $z$ restricted to the unit circle.\n",
    "\n",
    "It is best to start with a very simple example.\n",
    "\n",
    "Imagine you have input and output vectors\n",
    "$$ \\mathbf{x} = (x_0,x_1,x_2,x_3, \\ldots)$$ and\n",
    "$$ \\mathbf{y} = (y_0,y_1,y_2,y_3, \\ldots)$$\n",
    "\n",
    "Now compute the output from the input by these formulas:\n",
    "$$y_0 = x_0$$\n",
    "$$y_1 = x_1 + \\frac{1}{2}y_0$$\n",
    "$$y_2 = x_2 + \\frac{1}{2}y_1$$\n",
    "$$\\cdots$$\n",
    "$$y_n = x_n + \\frac{1}{2}y_{n-1}$$\n",
    "\n",
    "For example, if we start with input\n",
    "$$\\mathbf{x} = (1,0,00,0,\\ldots)$$ we get output\n",
    "$$\\mathbf{y} = (1,1/2, 1/4, 1/8,1/16, \\ldots).$$\n",
    "This sequence $\\mathbf{y}$ is called the *impulse response* to the filter. \n",
    "\n",
    "It is called an *infinite impulse response* because the single spike (delta function) in the input gave an infinitely long non-zero sequence in the output.\n",
    "\n",
    "It is called a *recursive filter* because we have to recurse on the previously calculated values of the output $\\mathbf{y}$ in order to compute the next entries of $\\mathbf{y}$."
   ]
  },
  {
   "cell_type": "markdown",
   "metadata": {},
   "source": [
    "## Filter response\n",
    "\n",
    "For this example, we can take the FT of the impulse response to get the filter response curve.\n",
    "\n",
    "Let's do this in code.\n"
   ]
  },
  {
   "cell_type": "code",
   "execution_count": 116,
   "metadata": {},
   "outputs": [
    {
     "data": {
      "image/png": "[encoded data removed]",
      "text/plain": [
       "<Figure size 432x288 with 1 Axes>"
      ]
     },
     "metadata": {
      "needs_background": "light"
     },
     "output_type": "display_data"
    }
   ],
   "source": [
    "N=1024\n",
    "f = linspace(-.5,.5,N)\n",
    "h = 2.0**(-(arange(0,N)))\n",
    "plot(f,np.fft.fftshift(abs(fft(h))));"
   ]
  },
  {
   "cell_type": "markdown",
   "metadata": {},
   "source": [
    "So this not quite a lowpass filter. But it does amplify low frequencies more than high frequencies, which is what we want in a low pass filter. "
   ]
  },
  {
   "cell_type": "markdown",
   "metadata": {},
   "source": [
    "## Impulse response\n",
    "\n",
    "Another way to compute the impulse response is to do a power series expansion for a rational function.\n",
    "\n",
    "For convolution filters, the Z-transform gives a polynomial, which gives the freqeuncy respone by evaluating on the unit circle. The coefficients of that polynomial **is** the impulse response. \n",
    "\n",
    "For recursive filters, you have to work a little harder.\n",
    "\n",
    "In our example, we have the computation\n",
    "$$y_n = x_n + \\frac{1}{2}y_{n-1}$$ or equivalently\n",
    "$$y_n - \\frac{1}{2}y_{n-1}= x_n $$, which we recognize as a convolution on the right,\n",
    "$$g_0y_n + g_1y_{n-1}= x_n $$, with the filter $(g_0,g_1) = (1,-1/2)$.\n",
    "\n",
    "Taking z-transforms, we get\n",
    "$$G(z)Y(Z) = X{z}$$ or equivalently\n",
    "$$Y(z) = \\frac{1}{G(z)}X(z),$$\n",
    "where the rational function\n",
    "$$R(z) = \\frac{1}{G(z)} = \\frac{1}{1-z/2}$$\n",
    "represents the effect of the filter (the transfer function). \n",
    "\n",
    "The filter response is give by evaluating $R(z)$ on the unit circle, so\n",
    "$$R(e^{2\\pi i \\omega}) = \\frac{1}{1-0.5e^{2\\pi i \\omega}}.$$\n",
    "\n",
    "We can plot this directly, without using a Fourier transform of the impulse response."
   ]
  },
  {
   "cell_type": "code",
   "execution_count": 118,
   "metadata": {},
   "outputs": [
    {
     "data": {
      "image/png": "[encoded data removed]",
      "text/plain": [
       "<Figure size 432x288 with 1 Axes>"
      ]
     },
     "metadata": {
      "needs_background": "light"
     },
     "output_type": "display_data"
    }
   ],
   "source": [
    "N=1024\n",
    "f = linspace(-.5,.5,N)\n",
    "r = 1/(1-0.5*exp(2*pi*1j*f))\n",
    "plot(f,abs(r));"
   ]
  },
  {
   "cell_type": "markdown",
   "metadata": {},
   "source": [
    "Notice this is the same plot as before, from the impulse response. \n",
    "\n",
    "Of course, we can also get the impulse response directly from the rational function, by expanding in a Taylor series. Notice we can expand that reciprocal as a geometric series:\n",
    "\n",
    "$$R(z) = \\frac{1}{1-z/2} =  1 + (z/2) + (z/2)^2 + (z/2)^3 + (z/2)^4 + \\cdots$$\n",
    "$$ = 1 + (1/2)z + (1/4)z^2 + (1/8)z^3 + (1/16)z^4 + \\cdots$$\n",
    "and those coefficients $1,1/2,1/4,1/8,\\cdots$ are exactly the terms that appear in the impulse response above."
   ]
  },
  {
   "cell_type": "markdown",
   "metadata": {},
   "source": [
    "Let's animate this filter response, using the one parameter $r$ in the response\n",
    "$$R(z) = \\frac{1}{1-rz}.$$\n",
    "Notice we need $-1<r<1$ in order for this function to not blow up on the unit disk!\n",
    "\n",
    "For r positive, we get low pass. For r negative, we get high pass. "
   ]
  },
  {
   "cell_type": "code",
   "execution_count": 121,
   "metadata": {},
   "outputs": [
    {
     "data": {
      "application/vnd.jupyter.widget-view+json": {
       "model_id": "7b811e2f4d4e4734a85347c116f67726",
       "version_major": 2,
       "version_minor": 0
      },
      "text/plain": [
       "interactive(children=(FloatSlider(value=0.5, description='r', max=0.99, min=-0.99, step=0.01), Output()), _dom…"
      ]
     },
     "metadata": {},
     "output_type": "display_data"
    }
   ],
   "source": [
    "## Plot a low pass response\n",
    "\n",
    "def displayIIR(r=.5):\n",
    "    f = linspace(-.5,.5,N)\n",
    "    resp = 1/(1-r*exp(tau*1j*f))\n",
    "    plot(f,abs(resp));\n",
    "\n",
    "interact(displayIIR,r=(-.99,.99,.01));"
   ]
  },
  {
   "cell_type": "markdown",
   "metadata": {},
   "source": [
    "## General IIR filters\n",
    "\n",
    "In general, we can define recursive filters in the form\n",
    "$$y_n = \\sum_{k=0}^N h_k x_{n-k} - \\sum_{k=1}^N g_k y_{n-k},$$\n",
    "where we pick the coefficients $h_k, g_k$ however we like. Notice, however the $h_k$ start at $_0$ while the $g_k$ start at $g_1$. That is because we can only use past values of the $y_{n-k}$ when trying to compute the next value of $y_n$. \n",
    "\n",
    "We can pull the sum with the $y_k$'s to the left, and get the convolution form\n",
    "$$\\sum_{k=0}^N g_k y_{n-k} = \\sum_{k=0}^N h_k x_{n-k},$$\n",
    "with the understanding that now we set $g_0 = 1$, so the $y_n$ term is correct. In convolution form we write\n",
    "$$ \\mathbf{g}*\\mathbf{y} = \\mathbf{h}*\\mathbf{x},$$\n",
    "and taking z-tranforms, the convolution becomes a product, so\n",
    "$$G(z)Y(z) = H(z)X(z).$$\n",
    "\n",
    "Thus we have the input-output result as\n",
    "$$Y(z) = \\frac{H(z)}{G(z)}X(z).$$\n",
    "Now, recall that $H(z), G(z)$ are polynomials, so $R(z) = H(z)/G(z)$ is a rational function, with poles and zeros. So our transfer function is rational. \n",
    "\n",
    "The filter response is obtained by evaluating the function $R(z)$ on the unit circle in the complex plane.\n",
    "\n",
    "As with polynomials, the magnitude of the amplitude is determined by the distance of the zeros and poles to the unit circle. (or course, for the poles, you have to divide by the distance). That is\n",
    "$$ |R(z)| = c\\frac{|z-z_1|\\cdot|z-z_2|\\cdot|z-z_2|\\cdots}{|z-p_1|\\cdot|z-p_2|\\cdot|z-p_2|\\cdots},$$\n",
    "where the $z_k$ are the zeros and the $p_k$ are the poles.\n",
    "\n",
    "Note you have to be careful with the poles. They should be outside the unit circle. Because inside the unit circle, you will get unstable filters.\n",
    "\n",
    "For instance the filter\n",
    "$$y_n = x_n + 2 y_{n-1}$$ is unstable, since the unit delta input\n",
    "$$\\mathbf{x} = (1,0,0,0,\\ldots)$$\n",
    "leads to the output\n",
    "$$\\mathbf(y) = (1,2,4,8,16,\\ldots)$$\n",
    "which is blowing up. That's bad!\n",
    "\n",
    "The transfer function is of course $R(z) = 1/(1-2z)$ which has a pole at $z=1/2, inside the unit circle. That is our warnign that the filter will be unstable.\n",
    "\n",
    "So, as wih zeros, you can always reflect the poles across the unit circle by taking reciprocals.\n",
    "\n",
    "## Complex conjugate pairs\n",
    "\n",
    "Keep in mind, your zeros and poles should either be real, or come in complex conjugate pairs. This way the corresponding polynomails and the resulting rational functions will have real coefficients. \n",
    "\n",
    "Who cares? Will, if you are filtering real signals, you would like the result to be real. So the coefficients for $h_k,g_k$ better be real. "
   ]
  },
  {
   "cell_type": "markdown",
   "metadata": {},
   "source": [
    "## Example. \n",
    "\n",
    "A better lowpass filter.  We say that the one recursive term gave us a fast decrease in the lowpas filter. Let's make it a real lowpass filter by inserting a zero at $z=-1$. So we can try something like\n",
    "$$R(z) = \\frac{1+z}{1-0.5z}.$$\n",
    "\n",
    "Let's look at the filter response for this. But hey, let's be more general. Replace $0.5$ with a parameter $\\lambda$ and let's normalize so we have unit amplitude at zero frequency.\n",
    "\n",
    "So, we try\n",
    "$$R(z) = \\frac{1-\\lambda}{2}\\frac{1+z}{1-\\lambda z}.$$\n",
    "\n",
    "We can plot this for various values of $\\lambda$."
   ]
  },
  {
   "cell_type": "code",
   "execution_count": 74,
   "metadata": {},
   "outputs": [
    {
     "data": {
      "image/png": "[encoded data removed]",
      "text/plain": [
       "<Figure size 432x288 with 1 Axes>"
      ]
     },
     "metadata": {
      "needs_background": "light"
     },
     "output_type": "display_data"
    }
   ],
   "source": [
    "lam = 0.5\n",
    "N=1024\n",
    "f = linspace(0,1,N)\n",
    "r = 0.5*(1-lam)*(1+exp(2*pi*1j*f))/(1-lam*exp(2*pi*1j*f))\n",
    "plot(f,abs(r));"
   ]
  },
  {
   "cell_type": "markdown",
   "metadata": {},
   "source": [
    "## Built in filter\n",
    "\n",
    "There are lots of interesting pre-built filters.\n",
    "\n",
    "The challenge is to find out how to use them.  \n",
    "\n",
    "Here we play around with the butterworth filter. This has a maximally flat pass band. (Flat like a pancake, perhaps?)\n",
    "\n",
    "b,a are the coefficients of the numerator and denominator for the transfer function. The order is important!"
   ]
  },
  {
   "cell_type": "code",
   "execution_count": 75,
   "metadata": {},
   "outputs": [],
   "source": [
    "from scipy.signal import butter, freqz\n",
    "b,a = butter(10, .4)   # 10 = order of the filter, .4 = .4 of Nyquist freq. "
   ]
  },
  {
   "cell_type": "code",
   "execution_count": 76,
   "metadata": {},
   "outputs": [
    {
     "data": {
      "text/plain": [
       "array([0.00049945, 0.00499454, 0.02247543, 0.05993449, 0.10488536,\n",
       "       0.12586243, 0.10488536, 0.05993449, 0.02247543, 0.00499454,\n",
       "       0.00049945])"
      ]
     },
     "execution_count": 76,
     "metadata": {},
     "output_type": "execute_result"
    }
   ],
   "source": [
    "b"
   ]
  },
  {
   "cell_type": "code",
   "execution_count": 77,
   "metadata": {},
   "outputs": [
    {
     "data": {
      "text/plain": [
       "array([ 1.00000000e+00, -1.99240148e+00,  3.01948286e+00, -2.81852243e+00,\n",
       "        2.03872064e+00, -1.05454462e+00,  4.14446269e-01, -1.15718625e-01,\n",
       "        2.24985093e-02, -2.66891235e-03,  1.48764452e-04])"
      ]
     },
     "execution_count": 77,
     "metadata": {},
     "output_type": "execute_result"
    }
   ],
   "source": [
    "a"
   ]
  },
  {
   "cell_type": "code",
   "execution_count": 78,
   "metadata": {},
   "outputs": [
    {
     "data": {
      "text/plain": [
       "array([-1.04792164+0.01589021j, -1.04792164-0.01589021j,\n",
       "       -1.02882267+0.04101782j, -1.02882267-0.04101782j,\n",
       "       -0.99903174+0.04954934j, -0.99903174-0.04954934j,\n",
       "       -0.97058101+0.03917676j, -0.97058101-0.03917676j,\n",
       "       -0.95364294+0.01475485j, -0.95364294-0.01475485j])"
      ]
     },
     "execution_count": 78,
     "metadata": {},
     "output_type": "execute_result"
    }
   ],
   "source": [
    "roots(b)"
   ]
  },
  {
   "cell_type": "code",
   "execution_count": 79,
   "metadata": {},
   "outputs": [
    {
     "data": {
      "image/png": "[encoded data removed]",
      "text/plain": [
       "<Figure size 432x288 with 1 Axes>"
      ]
     },
     "metadata": {
      "needs_background": "light"
     },
     "output_type": "display_data"
    }
   ],
   "source": [
    "plot(roots(b).real,roots(b).imag,'.');"
   ]
  },
  {
   "cell_type": "code",
   "execution_count": 80,
   "metadata": {},
   "outputs": [
    {
     "data": {
      "image/png": "[encoded data removed]",
      "text/plain": [
       "<Figure size 432x288 with 1 Axes>"
      ]
     },
     "metadata": {
      "needs_background": "light"
     },
     "output_type": "display_data"
    }
   ],
   "source": [
    "plot(roots(a).real,roots(a).imag,'.');"
   ]
  },
  {
   "cell_type": "code",
   "execution_count": 81,
   "metadata": {},
   "outputs": [],
   "source": [
    "w, h = freqz(b, a);"
   ]
  },
  {
   "cell_type": "code",
   "execution_count": 82,
   "metadata": {},
   "outputs": [
    {
     "data": {
      "image/png": "[encoded data removed]",
      "text/plain": [
       "<Figure size 432x288 with 1 Axes>"
      ]
     },
     "metadata": {
      "needs_background": "light"
     },
     "output_type": "display_data"
    }
   ],
   "source": [
    "plot(w/(2*pi), abs(h));"
   ]
  },
  {
   "cell_type": "code",
   "execution_count": 83,
   "metadata": {},
   "outputs": [
    {
     "data": {
      "image/png": "[encoded data removed]",
      "text/plain": [
       "<Figure size 432x288 with 1 Axes>"
      ]
     },
     "metadata": {
      "needs_background": "light"
     },
     "output_type": "display_data"
    }
   ],
   "source": [
    "plot(w/(2*pi), 20*log10(abs(h)))\n",
    "ylim([-100,5]);"
   ]
  },
  {
   "cell_type": "markdown",
   "metadata": {},
   "source": [
    "## A digital resonator\n",
    "\n",
    "I always heard about these things, they are simple filter recursive filters. You can read about it here:\n",
    "\n",
    "https://www.phon.ucl.ac.uk/courses/spsci/dsp/resoncon.html\n",
    "\n",
    "The point is, the rational function is of the form\n",
    "$$\\frac{1}{1 - 2r\\cos(w)z^{-1} + r^2z^{-2}},$$\n",
    "where $r$ is close to 1, and sets the bandwidth of the filter, and $\\cos(w)$ determines the resonant frequency of the filter, with $w$ measured in radians.\n",
    "\n",
    "This brings up a couple of interesting points. First, lots of people work in radians. I prefer to work in frequency, or frequency expressed as a fraction of sample rate. So I would replace $\\cos(w)$ with $\\cos(2\\pi f)$, with $f$ a number between 0 (low freq) and 1/2 (high frequency, at Nyquist rate). \n",
    "\n",
    "Second, we notice they use $z^{-1}$ while we typically use $z$. Our approach gives us a rational function that is analytic INSIDE  the unit disk on the complex plane. Their approach gives a function analytic OUTSIDE the unit disk. The approaches are equivalent, but the math is easier if we work on the INSIDE of the unit disk.\n",
    "\n",
    "So we should look at the rational function\n",
    "$$H(z) = \\frac{1}{1 - 2r\\cos(2\\pi f)z + r^2z^{2}}.$$\n",
    "\n",
    "We can plot the frequency response by evaluating this along the unit circle, as in the following code:\n"
   ]
  },
  {
   "cell_type": "code",
   "execution_count": 112,
   "metadata": {},
   "outputs": [
    {
     "data": {
      "application/vnd.jupyter.widget-view+json": {
       "model_id": "50a7b106fe9a4552be26c73b3f1ac48b",
       "version_major": 2,
       "version_minor": 0
      },
      "text/plain": [
       "interactive(children=(FloatSlider(value=0.1, description='f0', max=0.5, step=0.01), FloatSlider(value=0.9, des…"
      ]
     },
     "metadata": {},
     "output_type": "display_data"
    }
   ],
   "source": [
    "def displayRez(f0=0.1,r=.9):\n",
    "    f=linspace(-0.5,0.5,1024)\n",
    "    h = [1,-2*r*cos(tau*f0),r**2]\n",
    "    r = roots(h)\n",
    "    z = exp(tau*1j*f)\n",
    "    Hz = 1/(h[0] + h[1]*z + h[2]*z*z)\n",
    "    fig = figure(figsize=(12,3))\n",
    "    ax1 = fig.add_subplot(121)\n",
    "    ax2 = fig.add_subplot(122)\n",
    "    ax1.plot(r.real,r.imag,'.');\n",
    "    ax1.plot(z.real,z.imag,'-')\n",
    "    ax2.plot(f,abs(Hz),'-')\n",
    "\n",
    "\n",
    "interact(displayRez,f0=(0,.5,.01),r=(0.,1.0,.05));"
   ]
  },
  {
   "cell_type": "markdown",
   "metadata": {},
   "source": [
    "## Action of the IIR filter\n",
    "\n",
    "Here, we have the filter and its behaviour. \n",
    "\n",
    "For r close to 1, the filtered signal will sounds like a \"bottle instrument,\" where you blow air across the mouth of a glass bottle, and hear a resonant sound. "
   ]
  },
  {
   "cell_type": "code",
   "execution_count": 111,
   "metadata": {},
   "outputs": [
    {
     "data": {
      "application/vnd.jupyter.widget-view+json": {
       "model_id": "d1e959db9deb438f8d46c4158dac89a2",
       "version_major": 2,
       "version_minor": 0
      },
      "text/plain": [
       "interactive(children=(FloatSlider(value=0.4, description='f0', max=0.5, step=0.01), FloatSlider(value=0.98, de…"
      ]
     },
     "metadata": {},
     "output_type": "display_data"
    }
   ],
   "source": [
    "Fs = 8000\n",
    "random_sd = random.randn(Fs)\n",
    "\n",
    "def displayAudio2(f0=0.4,r=.98):\n",
    "    h = [1,-2*r*cos(tau*f0),r**2]\n",
    "    random_filt = lfilter([1],h,random_sd)\n",
    "    a4=Audio(data=random_sd, rate=Fs)\n",
    "    a5=Audio(data=random_filt, rate=Fs)\n",
    "    display(\"Original:\",a4,\"filter:\",a5)\n",
    "\n",
    "\n",
    "interact(displayAudio2,f0=(0,.5,.01),r=(0.5,1.0,.01));"
   ]
  },
  {
   "cell_type": "markdown",
   "metadata": {},
   "source": [
    "## What happens when $r=1$? "
   ]
  },
  {
   "cell_type": "code",
   "execution_count": null,
   "metadata": {},
   "outputs": [],
   "source": []
  }
 ],
 "metadata": {
  "kernelspec": {
   "display_name": "Python 3",
   "language": "python",
   "name": "python3"
  },
  "language_info": {
   "codemirror_mode": {
    "name": "ipython",
    "version": 3
   },
   "file_extension": ".py",
   "mimetype": "text/x-python",
   "name": "python",
   "nbconvert_exporter": "python",
   "pygments_lexer": "ipython3",
   "version": "3.6.7"
  }
 },
 "nbformat": 4,
 "nbformat_minor": 2
}
